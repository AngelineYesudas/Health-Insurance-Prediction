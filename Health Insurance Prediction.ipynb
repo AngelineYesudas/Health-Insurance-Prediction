{
 "cells": [
  {
   "cell_type": "code",
   "execution_count": 1,
   "metadata": {},
   "outputs": [],
   "source": [
    "import numpy as np\n",
    "import pandas as pd\n",
    "import matplotlib.pyplot as plt\n",
    "import seaborn as sns\n",
    "import warnings\n",
    "warnings.filterwarnings(\"ignore\")\n",
    "pd.set_option(\"display.max_columns\", None)\n",
    "pd.set_option(\"display.max_rows\", None)"
   ]
  },
  {
   "cell_type": "code",
   "execution_count": 2,
   "metadata": {},
   "outputs": [],
   "source": [
    "df=pd.read_csv(\"HealthInsurance.csv\", index_col=None, header=0)"
   ]
  },
  {
   "cell_type": "markdown",
   "metadata": {},
   "source": [
    "# Data pre-processing"
   ]
  },
  {
   "cell_type": "code",
   "execution_count": 3,
   "metadata": {},
   "outputs": [
    {
     "data": {
      "text/html": [
       "<div>\n",
       "<style scoped>\n",
       "    .dataframe tbody tr th:only-of-type {\n",
       "        vertical-align: middle;\n",
       "    }\n",
       "\n",
       "    .dataframe tbody tr th {\n",
       "        vertical-align: top;\n",
       "    }\n",
       "\n",
       "    .dataframe thead th {\n",
       "        text-align: right;\n",
       "    }\n",
       "</style>\n",
       "<table border=\"1\" class=\"dataframe\">\n",
       "  <thead>\n",
       "    <tr style=\"text-align: right;\">\n",
       "      <th></th>\n",
       "      <th>age</th>\n",
       "      <th>sex</th>\n",
       "      <th>bmi</th>\n",
       "      <th>children</th>\n",
       "      <th>smoker</th>\n",
       "      <th>region</th>\n",
       "      <th>charges</th>\n",
       "    </tr>\n",
       "  </thead>\n",
       "  <tbody>\n",
       "    <tr>\n",
       "      <td>0</td>\n",
       "      <td>19</td>\n",
       "      <td>female</td>\n",
       "      <td>27.900</td>\n",
       "      <td>0</td>\n",
       "      <td>yes</td>\n",
       "      <td>southwest</td>\n",
       "      <td>16884.92400</td>\n",
       "    </tr>\n",
       "    <tr>\n",
       "      <td>1</td>\n",
       "      <td>18</td>\n",
       "      <td>male</td>\n",
       "      <td>33.770</td>\n",
       "      <td>1</td>\n",
       "      <td>no</td>\n",
       "      <td>southeast</td>\n",
       "      <td>1725.55230</td>\n",
       "    </tr>\n",
       "    <tr>\n",
       "      <td>2</td>\n",
       "      <td>28</td>\n",
       "      <td>male</td>\n",
       "      <td>33.000</td>\n",
       "      <td>3</td>\n",
       "      <td>no</td>\n",
       "      <td>southeast</td>\n",
       "      <td>4449.46200</td>\n",
       "    </tr>\n",
       "    <tr>\n",
       "      <td>3</td>\n",
       "      <td>33</td>\n",
       "      <td>male</td>\n",
       "      <td>22.705</td>\n",
       "      <td>0</td>\n",
       "      <td>no</td>\n",
       "      <td>northwest</td>\n",
       "      <td>21984.47061</td>\n",
       "    </tr>\n",
       "    <tr>\n",
       "      <td>4</td>\n",
       "      <td>32</td>\n",
       "      <td>male</td>\n",
       "      <td>28.880</td>\n",
       "      <td>0</td>\n",
       "      <td>no</td>\n",
       "      <td>northwest</td>\n",
       "      <td>3866.85520</td>\n",
       "    </tr>\n",
       "  </tbody>\n",
       "</table>\n",
       "</div>"
      ],
      "text/plain": [
       "   age     sex     bmi  children smoker     region      charges\n",
       "0   19  female  27.900         0    yes  southwest  16884.92400\n",
       "1   18    male  33.770         1     no  southeast   1725.55230\n",
       "2   28    male  33.000         3     no  southeast   4449.46200\n",
       "3   33    male  22.705         0     no  northwest  21984.47061\n",
       "4   32    male  28.880         0     no  northwest   3866.85520"
      ]
     },
     "execution_count": 3,
     "metadata": {},
     "output_type": "execute_result"
    }
   ],
   "source": [
    "df.head()"
   ]
  },
  {
   "cell_type": "code",
   "execution_count": 4,
   "metadata": {},
   "outputs": [
    {
     "data": {
      "text/plain": [
       "(1338, 7)"
      ]
     },
     "execution_count": 4,
     "metadata": {},
     "output_type": "execute_result"
    }
   ],
   "source": [
    "df.shape"
   ]
  },
  {
   "cell_type": "code",
   "execution_count": 5,
   "metadata": {},
   "outputs": [
    {
     "name": "stdout",
     "output_type": "stream",
     "text": [
      "<class 'pandas.core.frame.DataFrame'>\n",
      "RangeIndex: 1338 entries, 0 to 1337\n",
      "Data columns (total 7 columns):\n",
      "age         1338 non-null int64\n",
      "sex         1338 non-null object\n",
      "bmi         1338 non-null float64\n",
      "children    1338 non-null int64\n",
      "smoker      1338 non-null object\n",
      "region      1338 non-null object\n",
      "charges     1338 non-null float64\n",
      "dtypes: float64(2), int64(2), object(3)\n",
      "memory usage: 73.3+ KB\n"
     ]
    }
   ],
   "source": [
    "#To understand the metadata\n",
    "df.info()"
   ]
  },
  {
   "cell_type": "code",
   "execution_count": 6,
   "metadata": {},
   "outputs": [
    {
     "data": {
      "text/html": [
       "<div>\n",
       "<style scoped>\n",
       "    .dataframe tbody tr th:only-of-type {\n",
       "        vertical-align: middle;\n",
       "    }\n",
       "\n",
       "    .dataframe tbody tr th {\n",
       "        vertical-align: top;\n",
       "    }\n",
       "\n",
       "    .dataframe thead th {\n",
       "        text-align: right;\n",
       "    }\n",
       "</style>\n",
       "<table border=\"1\" class=\"dataframe\">\n",
       "  <thead>\n",
       "    <tr style=\"text-align: right;\">\n",
       "      <th></th>\n",
       "      <th>age</th>\n",
       "      <th>bmi</th>\n",
       "      <th>children</th>\n",
       "      <th>charges</th>\n",
       "    </tr>\n",
       "  </thead>\n",
       "  <tbody>\n",
       "    <tr>\n",
       "      <td>count</td>\n",
       "      <td>1338.000000</td>\n",
       "      <td>1338.000000</td>\n",
       "      <td>1338.000000</td>\n",
       "      <td>1338.000000</td>\n",
       "    </tr>\n",
       "    <tr>\n",
       "      <td>mean</td>\n",
       "      <td>39.207025</td>\n",
       "      <td>30.663397</td>\n",
       "      <td>1.094918</td>\n",
       "      <td>13270.422265</td>\n",
       "    </tr>\n",
       "    <tr>\n",
       "      <td>std</td>\n",
       "      <td>14.049960</td>\n",
       "      <td>6.098187</td>\n",
       "      <td>1.205493</td>\n",
       "      <td>12110.011237</td>\n",
       "    </tr>\n",
       "    <tr>\n",
       "      <td>min</td>\n",
       "      <td>18.000000</td>\n",
       "      <td>15.960000</td>\n",
       "      <td>0.000000</td>\n",
       "      <td>1121.873900</td>\n",
       "    </tr>\n",
       "    <tr>\n",
       "      <td>25%</td>\n",
       "      <td>27.000000</td>\n",
       "      <td>26.296250</td>\n",
       "      <td>0.000000</td>\n",
       "      <td>4740.287150</td>\n",
       "    </tr>\n",
       "    <tr>\n",
       "      <td>50%</td>\n",
       "      <td>39.000000</td>\n",
       "      <td>30.400000</td>\n",
       "      <td>1.000000</td>\n",
       "      <td>9382.033000</td>\n",
       "    </tr>\n",
       "    <tr>\n",
       "      <td>75%</td>\n",
       "      <td>51.000000</td>\n",
       "      <td>34.693750</td>\n",
       "      <td>2.000000</td>\n",
       "      <td>16639.912515</td>\n",
       "    </tr>\n",
       "    <tr>\n",
       "      <td>max</td>\n",
       "      <td>64.000000</td>\n",
       "      <td>53.130000</td>\n",
       "      <td>5.000000</td>\n",
       "      <td>63770.428010</td>\n",
       "    </tr>\n",
       "  </tbody>\n",
       "</table>\n",
       "</div>"
      ],
      "text/plain": [
       "               age          bmi     children       charges\n",
       "count  1338.000000  1338.000000  1338.000000   1338.000000\n",
       "mean     39.207025    30.663397     1.094918  13270.422265\n",
       "std      14.049960     6.098187     1.205493  12110.011237\n",
       "min      18.000000    15.960000     0.000000   1121.873900\n",
       "25%      27.000000    26.296250     0.000000   4740.287150\n",
       "50%      39.000000    30.400000     1.000000   9382.033000\n",
       "75%      51.000000    34.693750     2.000000  16639.912515\n",
       "max      64.000000    53.130000     5.000000  63770.428010"
      ]
     },
     "execution_count": 6,
     "metadata": {},
     "output_type": "execute_result"
    }
   ],
   "source": [
    "#To understand the numeric variables\n",
    "df.describe()"
   ]
  },
  {
   "cell_type": "code",
   "execution_count": 7,
   "metadata": {},
   "outputs": [
    {
     "data": {
      "text/plain": [
       "age         0\n",
       "sex         0\n",
       "bmi         0\n",
       "children    0\n",
       "smoker      0\n",
       "region      0\n",
       "charges     0\n",
       "dtype: int64"
      ]
     },
     "execution_count": 7,
     "metadata": {},
     "output_type": "execute_result"
    }
   ],
   "source": [
    "#To check for missing values\n",
    "df.isnull().sum()"
   ]
  },
  {
   "cell_type": "code",
   "execution_count": 8,
   "metadata": {},
   "outputs": [
    {
     "data": {
      "text/plain": [
       "age           int64\n",
       "sex          object\n",
       "bmi         float64\n",
       "children      int64\n",
       "smoker       object\n",
       "region       object\n",
       "charges     float64\n",
       "dtype: object"
      ]
     },
     "execution_count": 8,
     "metadata": {},
     "output_type": "execute_result"
    }
   ],
   "source": [
    "df.dtypes"
   ]
  },
  {
   "cell_type": "code",
   "execution_count": 9,
   "metadata": {},
   "outputs": [
    {
     "data": {
      "text/plain": [
       "male      676\n",
       "female    662\n",
       "Name: sex, dtype: int64"
      ]
     },
     "execution_count": 9,
     "metadata": {},
     "output_type": "execute_result"
    }
   ],
   "source": [
    "#Converting the categorical variables into numeric variables\n",
    "df[\"sex\"].value_counts()"
   ]
  },
  {
   "cell_type": "code",
   "execution_count": 10,
   "metadata": {},
   "outputs": [],
   "source": [
    "#To convert sex variable into a numeric variable\n",
    "#creating a dictionary for sex variable\n",
    "sex_dict={\"male\":0,\"female\":1}"
   ]
  },
  {
   "cell_type": "code",
   "execution_count": 11,
   "metadata": {},
   "outputs": [],
   "source": [
    "df[\"sex\"]=df[\"sex\"].map(sex_dict)"
   ]
  },
  {
   "cell_type": "code",
   "execution_count": 12,
   "metadata": {},
   "outputs": [
    {
     "data": {
      "text/plain": [
       "0    676\n",
       "1    662\n",
       "Name: sex, dtype: int64"
      ]
     },
     "execution_count": 12,
     "metadata": {},
     "output_type": "execute_result"
    }
   ],
   "source": [
    "df[\"sex\"].value_counts()"
   ]
  },
  {
   "cell_type": "code",
   "execution_count": 13,
   "metadata": {},
   "outputs": [
    {
     "data": {
      "text/plain": [
       "no     1064\n",
       "yes     274\n",
       "Name: smoker, dtype: int64"
      ]
     },
     "execution_count": 13,
     "metadata": {},
     "output_type": "execute_result"
    }
   ],
   "source": [
    "#Converting the categorical variables into numeric variables\n",
    "df[\"smoker\"].value_counts()"
   ]
  },
  {
   "cell_type": "code",
   "execution_count": 14,
   "metadata": {},
   "outputs": [],
   "source": [
    "#To convert smoker variable into a numeric variable\n",
    "#Creating a dictionary for smoker variable\n",
    "smoker_dict={\"no\":0,\"yes\":1}"
   ]
  },
  {
   "cell_type": "code",
   "execution_count": 15,
   "metadata": {},
   "outputs": [],
   "source": [
    "df[\"smoker\"]=df[\"smoker\"].map(smoker_dict)"
   ]
  },
  {
   "cell_type": "code",
   "execution_count": 16,
   "metadata": {},
   "outputs": [
    {
     "data": {
      "text/plain": [
       "0    1064\n",
       "1     274\n",
       "Name: smoker, dtype: int64"
      ]
     },
     "execution_count": 16,
     "metadata": {},
     "output_type": "execute_result"
    }
   ],
   "source": [
    "df[\"smoker\"].value_counts()"
   ]
  },
  {
   "cell_type": "code",
   "execution_count": 17,
   "metadata": {},
   "outputs": [
    {
     "data": {
      "text/plain": [
       "southeast    364\n",
       "southwest    325\n",
       "northwest    325\n",
       "northeast    324\n",
       "Name: region, dtype: int64"
      ]
     },
     "execution_count": 17,
     "metadata": {},
     "output_type": "execute_result"
    }
   ],
   "source": [
    "df[\"region\"].value_counts()"
   ]
  },
  {
   "cell_type": "code",
   "execution_count": 18,
   "metadata": {},
   "outputs": [],
   "source": [
    "#To covert region variable into a numeric variable\n",
    "#Creating a dictionary for region variable\n",
    "region_dict={\"southeast\":0,\"southwest\":1,\"northwest\":2,\"northeast\":3}"
   ]
  },
  {
   "cell_type": "code",
   "execution_count": 19,
   "metadata": {},
   "outputs": [],
   "source": [
    "df[\"region\"]=df[\"region\"].map(region_dict)"
   ]
  },
  {
   "cell_type": "code",
   "execution_count": 20,
   "metadata": {},
   "outputs": [
    {
     "data": {
      "text/plain": [
       "0    364\n",
       "2    325\n",
       "1    325\n",
       "3    324\n",
       "Name: region, dtype: int64"
      ]
     },
     "execution_count": 20,
     "metadata": {},
     "output_type": "execute_result"
    }
   ],
   "source": [
    "df[\"region\"].value_counts()"
   ]
  },
  {
   "cell_type": "markdown",
   "metadata": {},
   "source": [
    "# LINEAR REGRESSION"
   ]
  },
  {
   "cell_type": "code",
   "execution_count": 21,
   "metadata": {},
   "outputs": [
    {
     "data": {
      "text/plain": [
       "<matplotlib.axes._subplots.AxesSubplot at 0x227da6f3e48>"
      ]
     },
     "execution_count": 21,
     "metadata": {},
     "output_type": "execute_result"
    },
    {
     "data": {
      "image/png": "[encoded data removed]",
      "text/plain": [
       "<Figure size 432x288 with 1 Axes>"
      ]
     },
     "metadata": {
      "needs_background": "light"
     },
     "output_type": "display_data"
    }
   ],
   "source": [
    "#ASSUMPTION 1-->There should be no outliers in the data\n",
    "#Never run a box plot on discrete variables only run on continuous variables\n",
    "sns.boxplot(data=df.age)"
   ]
  },
  {
   "cell_type": "code",
   "execution_count": 22,
   "metadata": {},
   "outputs": [
    {
     "data": {
      "text/plain": [
       "<matplotlib.axes._subplots.AxesSubplot at 0x227d8d3aac8>"
      ]
     },
     "execution_count": 22,
     "metadata": {},
     "output_type": "execute_result"
    },
    {
     "data": {
      "image/png": "[encoded data removed]",
      "text/plain": [
       "<Figure size 432x288 with 1 Axes>"
      ]
     },
     "metadata": {
      "needs_background": "light"
     },
     "output_type": "display_data"
    }
   ],
   "source": [
    "sns.boxplot(data=df.bmi)"
   ]
  },
  {
   "cell_type": "code",
   "execution_count": 23,
   "metadata": {},
   "outputs": [
    {
     "data": {
      "text/plain": [
       "<matplotlib.axes._subplots.AxesSubplot at 0x227da844d88>"
      ]
     },
     "execution_count": 23,
     "metadata": {},
     "output_type": "execute_result"
    },
    {
     "data": {
      "image/png": "[encoded data removed]",
      "text/plain": [
       "<Figure size 432x288 with 1 Axes>"
      ]
     },
     "metadata": {
      "needs_background": "light"
     },
     "output_type": "display_data"
    }
   ],
   "source": [
    "sns.boxplot(data=df.children)"
   ]
  },
  {
   "cell_type": "code",
   "execution_count": 24,
   "metadata": {},
   "outputs": [
    {
     "data": {
      "text/plain": [
       "'There are a cluster of outliers present in bmi variable, which wont be imputed since they are \\nconsidered as just far values from the other values'"
      ]
     },
     "execution_count": 24,
     "metadata": {},
     "output_type": "execute_result"
    }
   ],
   "source": [
    "'''There are a cluster of outliers present in bmi variable, which wont be imputed since they are \n",
    "considered as just far values from the other values'''"
   ]
  },
  {
   "cell_type": "code",
   "execution_count": 25,
   "metadata": {},
   "outputs": [
    {
     "data": {
      "text/plain": [
       "<seaborn.axisgrid.PairGrid at 0x227da8c1388>"
      ]
     },
     "execution_count": 25,
     "metadata": {},
     "output_type": "execute_result"
    },
    {
     "data": {
      "image/png": "[encoded data removed]",
      "text/plain": [
       "<Figure size 1080x180 with 6 Axes>"
      ]
     },
     "metadata": {
      "needs_background": "light"
     },
     "output_type": "display_data"
    }
   ],
   "source": [
    "#ASSUMPTION 2-->Linearity Assumption\n",
    "#Every independant variable must have a Linear Relationship with the dependant variable\n",
    "#This can be checked using pairplot\n",
    "sns.pairplot(df,x_vars=[\"age\",\"sex\",\"bmi\",\"children\",\"smoker\",\"region\"],y_vars=\"charges\",kind=\"reg\")"
   ]
  },
  {
   "cell_type": "code",
   "execution_count": 26,
   "metadata": {},
   "outputs": [],
   "source": [
    "#Segregating independent & depent variable\n",
    "#here include only those variables that show linear relationship\n",
    "X=df[[\"age\",\"sex\",\"bmi\",\"children\",\"smoker\",\"region\"]]\n",
    "Y=df[\"charges\"]"
   ]
  },
  {
   "cell_type": "code",
   "execution_count": 27,
   "metadata": {},
   "outputs": [
    {
     "data": {
      "text/plain": [
       "<matplotlib.axes._subplots.AxesSubplot at 0x227dad388c8>"
      ]
     },
     "execution_count": 27,
     "metadata": {},
     "output_type": "execute_result"
    },
    {
     "data": {
      "image/png": "[encoded data removed]",
      "text/plain": [
       "<Figure size 432x288 with 1 Axes>"
      ]
     },
     "metadata": {
      "needs_background": "light"
     },
     "output_type": "display_data"
    }
   ],
   "source": [
    "#ASSUMPTION 3-->Normality Assumption\n",
    "#the dependant variable must follow approximately a normal distribution\n",
    "#This can be checked using distplot(), gives a histogram\n",
    "sns.distplot(Y,hist=True)"
   ]
  },
  {
   "cell_type": "code",
   "execution_count": 28,
   "metadata": {},
   "outputs": [
    {
     "data": {
      "text/plain": [
       "<matplotlib.axes._subplots.AxesSubplot at 0x227dad44448>"
      ]
     },
     "execution_count": 28,
     "metadata": {},
     "output_type": "execute_result"
    },
    {
     "data": {
      "image/png": "[encoded data removed]",
      "text/plain": [
       "<Figure size 432x288 with 1 Axes>"
      ]
     },
     "metadata": {
      "needs_background": "light"
     },
     "output_type": "display_data"
    }
   ],
   "source": [
    "#here we can see that it does not follow a normal distribution, so we perform log transformation & check\n",
    "#log transform\n",
    "Y_log=np.log(Y)\n",
    "sns.distplot(Y_log,hist=\"True\")"
   ]
  },
  {
   "cell_type": "code",
   "execution_count": 29,
   "metadata": {},
   "outputs": [
    {
     "data": {
      "text/plain": [
       "array([[<matplotlib.axes._subplots.AxesSubplot object at 0x00000227DA766448>,\n",
       "        <matplotlib.axes._subplots.AxesSubplot object at 0x00000227DAEDBD88>],\n",
       "       [<matplotlib.axes._subplots.AxesSubplot object at 0x00000227DAF19548>,\n",
       "        <matplotlib.axes._subplots.AxesSubplot object at 0x00000227DAF52108>],\n",
       "       [<matplotlib.axes._subplots.AxesSubplot object at 0x00000227DAF84D48>,\n",
       "        <matplotlib.axes._subplots.AxesSubplot object at 0x00000227DAFBDAC8>]],\n",
       "      dtype=object)"
      ]
     },
     "execution_count": 29,
     "metadata": {},
     "output_type": "execute_result"
    },
    {
     "data": {
      "image/png": "[encoded data removed]",
      "text/plain": [
       "<Figure size 432x288 with 6 Axes>"
      ]
     },
     "metadata": {
      "needs_background": "light"
     },
     "output_type": "display_data"
    }
   ],
   "source": [
    "##Checking skewness in independent variable is a good practise\n",
    "##If found skewness perform log transform\n",
    "##Donot perform any transformation multiple times \n",
    "X.hist(bins=20)"
   ]
  },
  {
   "cell_type": "code",
   "execution_count": 30,
   "metadata": {},
   "outputs": [
    {
     "name": "stdout",
     "output_type": "stream",
     "text": [
      "age         0.055610\n",
      "sex         0.020928\n",
      "bmi         0.283729\n",
      "children    0.937328\n",
      "smoker      1.463124\n",
      "region      0.049170\n",
      "dtype: float64\n",
      "children    0.937328\n",
      "smoker      1.463124\n",
      "dtype: float64\n"
     ]
    }
   ],
   "source": [
    "#Some skewness is acceptable , generic code to handle this is given below\n",
    "#X.apply applies function to all the variables individually \n",
    "##We perform log1p transformation since there might be some values with value 0 performin normal log transf can covert these values to negative infinity therefore we we perform log1 transform which converts 0 to 1 and then performs log on it\n",
    "from scipy.stats import skew\n",
    "data_num_skew = X.apply(lambda x: skew(x.dropna()))\n",
    "data_num_skewed = data_num_skew[(data_num_skew > .75) | (data_num_skew < -.75)] ## Finding outlier beyonf 0.75 and -0.75 in any variable and is stored in new variable data_num_skewed \n",
    "print(data_num_skew)\n",
    "print(data_num_skewed)\n",
    "import numpy as np\n",
    "# apply log + 1 transformation for all numeric features with skewness over .75\n",
    "X[data_num_skewed.index] = np.log1p(X[data_num_skewed.index]) ##"
   ]
  },
  {
   "cell_type": "code",
   "execution_count": 31,
   "metadata": {},
   "outputs": [
    {
     "data": {
      "text/plain": [
       "array([[<matplotlib.axes._subplots.AxesSubplot object at 0x00000227DB1E1A48>,\n",
       "        <matplotlib.axes._subplots.AxesSubplot object at 0x00000227DB1FBF08>],\n",
       "       [<matplotlib.axes._subplots.AxesSubplot object at 0x00000227DB22C688>,\n",
       "        <matplotlib.axes._subplots.AxesSubplot object at 0x00000227DB261D88>],\n",
       "       [<matplotlib.axes._subplots.AxesSubplot object at 0x00000227DB29D548>,\n",
       "        <matplotlib.axes._subplots.AxesSubplot object at 0x00000227DB2D2F88>]],\n",
       "      dtype=object)"
      ]
     },
     "execution_count": 31,
     "metadata": {},
     "output_type": "execute_result"
    },
    {
     "data": {
      "image/png": "[encoded data removed]",
      "text/plain": [
       "<Figure size 432x288 with 6 Axes>"
      ]
     },
     "metadata": {
      "needs_background": "light"
     },
     "output_type": "display_data"
    }
   ],
   "source": [
    "X.hist(bins=20)"
   ]
  },
  {
   "cell_type": "code",
   "execution_count": 32,
   "metadata": {},
   "outputs": [
    {
     "name": "stdout",
     "output_type": "stream",
     "text": [
      "               age       sex       bmi  children    smoker    region\n",
      "age       1.000000  0.020856  0.109272  0.048406 -0.025019  0.006308\n",
      "sex       0.020856  1.000000 -0.046371 -0.016296 -0.076185  0.012816\n",
      "bmi       0.109272 -0.046371  1.000000  0.016178  0.003750 -0.262754\n",
      "children  0.048406 -0.016296  0.016178  1.000000  0.013245 -0.000860\n",
      "smoker   -0.025019 -0.076185  0.003750  0.013245  1.000000 -0.038873\n",
      "region    0.006308  0.012816 -0.262754 -0.000860 -0.038873  1.000000\n"
     ]
    },
    {
     "data": {
      "text/plain": [
       "<matplotlib.axes._subplots.AxesSubplot at 0x227db1e3e08>"
      ]
     },
     "execution_count": 32,
     "metadata": {},
     "output_type": "execute_result"
    },
    {
     "data": {
      "image/png": "[encoded data removed]",
      "text/plain": [
       "<Figure size 432x288 with 2 Axes>"
      ]
     },
     "metadata": {
      "needs_background": "light"
     },
     "output_type": "display_data"
    }
   ],
   "source": [
    "##ASSUMPTION 4--->There should be no Multicolinearity\n",
    "#To check multicolinearity among independent variable\n",
    "corr_df=X.corr(method=\"pearson\")\n",
    "print(corr_df)\n",
    "sns.heatmap(corr_df,vmax=1.0,vmin=-1.0,annot=True) ##Heatmaqp represents the corr in colorfull effect"
   ]
  },
  {
   "cell_type": "code",
   "execution_count": 33,
   "metadata": {},
   "outputs": [
    {
     "data": {
      "text/html": [
       "<div>\n",
       "<style scoped>\n",
       "    .dataframe tbody tr th:only-of-type {\n",
       "        vertical-align: middle;\n",
       "    }\n",
       "\n",
       "    .dataframe tbody tr th {\n",
       "        vertical-align: top;\n",
       "    }\n",
       "\n",
       "    .dataframe thead th {\n",
       "        text-align: right;\n",
       "    }\n",
       "</style>\n",
       "<table border=\"1\" class=\"dataframe\">\n",
       "  <thead>\n",
       "    <tr style=\"text-align: right;\">\n",
       "      <th></th>\n",
       "      <th>features</th>\n",
       "      <th>VIF Factor</th>\n",
       "    </tr>\n",
       "  </thead>\n",
       "  <tbody>\n",
       "    <tr>\n",
       "      <td>0</td>\n",
       "      <td>age</td>\n",
       "      <td>7.98</td>\n",
       "    </tr>\n",
       "    <tr>\n",
       "      <td>1</td>\n",
       "      <td>sex</td>\n",
       "      <td>1.92</td>\n",
       "    </tr>\n",
       "    <tr>\n",
       "      <td>2</td>\n",
       "      <td>bmi</td>\n",
       "      <td>8.82</td>\n",
       "    </tr>\n",
       "    <tr>\n",
       "      <td>3</td>\n",
       "      <td>children</td>\n",
       "      <td>2.05</td>\n",
       "    </tr>\n",
       "    <tr>\n",
       "      <td>4</td>\n",
       "      <td>smoker</td>\n",
       "      <td>1.25</td>\n",
       "    </tr>\n",
       "    <tr>\n",
       "      <td>5</td>\n",
       "      <td>region</td>\n",
       "      <td>2.37</td>\n",
       "    </tr>\n",
       "  </tbody>\n",
       "</table>\n",
       "</div>"
      ],
      "text/plain": [
       "   features  VIF Factor\n",
       "0       age        7.98\n",
       "1       sex        1.92\n",
       "2       bmi        8.82\n",
       "3  children        2.05\n",
       "4    smoker        1.25\n",
       "5    region        2.37"
      ]
     },
     "execution_count": 33,
     "metadata": {},
     "output_type": "execute_result"
    }
   ],
   "source": [
    "##VIF \n",
    "#stasmodel to run statistical model\n",
    "from statsmodels.stats.outliers_influence import variance_inflation_factor as vif\n",
    "vif_df = pd.DataFrame()\n",
    "vif_df[\"features\"] = X.columns\n",
    "vif_df[\"VIF Factor\"] = [vif(X.values, i) for i in range(X.shape[1])]\n",
    "vif_df.round(2)"
   ]
  },
  {
   "cell_type": "markdown",
   "metadata": {},
   "source": [
    "# Model Building"
   ]
  },
  {
   "cell_type": "code",
   "execution_count": 34,
   "metadata": {},
   "outputs": [],
   "source": [
    "X=df[[\"age\",\"sex\",\"bmi\",\"children\",\"smoker\",\"region\"]]\n",
    "Y=df[\"charges\"]\n",
    "\n",
    "#Splitting the data using sklearn\n",
    "from sklearn.model_selection import train_test_split\n",
    "#splitting the data into train & test\n",
    "X_train, X_test, Y_train, Y_test=train_test_split(X,Y, test_size=0.2, random_state=10)\n"
   ]
  },
  {
   "cell_type": "code",
   "execution_count": 35,
   "metadata": {},
   "outputs": [
    {
     "name": "stdout",
     "output_type": "stream",
     "text": [
      "-13852.855289383382\n",
      "[  259.58768613   253.19052641   352.58760017   544.10213435\n",
      " 24123.55372986   310.61294595]\n"
     ]
    }
   ],
   "source": [
    "#Creating the Model object\n",
    "from sklearn.linear_model import LinearRegression\n",
    "lm=LinearRegression()\n",
    "lm.fit(X_train,Y_train)\n",
    "\n",
    "#print intercept and coefficients\n",
    "print(lm.intercept_)\n",
    "print(lm.coef_)\n"
   ]
  },
  {
   "cell_type": "code",
   "execution_count": 36,
   "metadata": {},
   "outputs": [
    {
     "name": "stdout",
     "output_type": "stream",
     "text": [
      "[('age', 259.5876861309531), ('sex', 253.19052640527957), ('bmi', 352.58760017183505), ('children', 544.10213435281), ('smoker', 24123.553729855845), ('region', 310.6129459478075)]\n"
     ]
    }
   ],
   "source": [
    "print(list(zip(X.columns,lm.coef_)))"
   ]
  },
  {
   "cell_type": "code",
   "execution_count": 37,
   "metadata": {},
   "outputs": [
    {
     "name": "stdout",
     "output_type": "stream",
     "text": [
      "[ 8039.39194759  5846.03546025 15398.53323902 11078.08110332\n",
      "  3727.45925919  9673.48007202  9120.50581845 25723.19601246\n",
      "  7365.44834761 30773.8210225   1681.87178405  4230.68798522\n",
      "  7419.10928456 11297.61749299 12997.90586567 11071.2652669\n",
      "  5418.58205449 18477.07477271 10838.24133098 30973.0636082\n",
      " 34222.11886782  4347.18131145  1283.09512374  7353.90920088\n",
      "  4104.09199795 13390.85587603 12048.82008141 10241.65835874\n",
      "  6606.92821696 31227.56236474 -1628.84182355 34239.7777003\n",
      "  9290.54092238  7393.57253673  7949.05089346 11855.25511176\n",
      " 13447.48689979 12896.28226168  9958.35512211  8628.72035974\n",
      " 15747.2125296   9779.34365612  5477.58141807 11616.4279189\n",
      "  5325.17693204  7077.86356137  6589.86297827 34330.58514603\n",
      " 11103.57075443 10602.34349666 33043.46662743  5342.96589038\n",
      " 10565.5077926  14697.56451463 10958.91334094 13113.18410203\n",
      " 12227.48222132  7796.40746922  7799.47780724 34798.71813516\n",
      "   728.44219919 33415.55483994 37011.95253766  1321.52499411\n",
      " 27873.74811295 10063.04362455  5868.81006013  9285.32469184\n",
      "  8373.06751181  7953.03272962  7337.34159081  1952.03082849\n",
      "  8190.5133555   9628.66180201  8659.19921016 12897.20849172\n",
      "  6294.91293488 10976.70104698 -1097.86162749 12812.49723996\n",
      " 11236.21187492 12612.79481583 26447.36345298  2136.8630969\n",
      " 33695.71546408  4243.13820792  2571.4677747   3643.86899131\n",
      "  9279.15717801  9002.54259002 32061.62220908 32656.70385758\n",
      "  9394.7330598  38310.62033656 13671.47996811  6415.17515252\n",
      "  6974.32288063 14421.23251679  6841.35061074 10624.57023709\n",
      "  7970.81865112  2622.9280044   2932.32973875  6950.846815\n",
      " 10208.60209052  9840.92053627 30909.44212881 29992.96501584\n",
      " 30131.28542684  4094.80412571 10642.83770426  7952.98197787\n",
      "  6483.81266903 26260.01078822 30254.11710661 31289.9021428\n",
      "  5308.36882246 35519.16857515  6321.53580027  3466.28116073\n",
      " 33887.99038028 11161.45132663  6622.41671054  5112.95182622\n",
      " 38997.02155675  5595.65753587 13868.17627426  9251.66105255\n",
      "  6922.2001287  11915.63946491 11370.78541074 35887.85351551\n",
      " 27097.38660065 34921.34952275 12360.37272568 30614.95044831\n",
      " 12299.69928944 12544.93074166 28799.72009371  5441.64218258\n",
      "  8037.62012522 31868.84226675 13759.78227051  4328.76763548\n",
      "  4135.42594326 30018.92754018 14069.27088655  9354.55955594\n",
      " 12200.81308933  3433.80524126  7305.17134549  4489.62620964\n",
      "  2108.58673828 38585.06583794 13455.29528001  3967.71467138\n",
      " 14662.03411686  -996.71873904 15299.5274832  36215.26110276\n",
      " 11254.29208451  6894.60781483  7805.23104359 12013.69227737\n",
      "  4798.02787819 40224.81780113 10308.89311694 10298.56487281\n",
      "  2048.96558073 10760.25338225 12250.63716104 10202.5881945\n",
      "  7270.83493723 11948.05597151 29105.35032198  8046.18918515\n",
      "   696.8688935  12177.07792534  9768.97855069 15714.19198356\n",
      " 38829.97824668 11011.46217838  5433.55454384  5984.51574436\n",
      " 27783.52590889  7351.31496896 35831.02343746  9610.5818901\n",
      " 30556.29821831  1300.78580012  8305.38179954  9194.67891817\n",
      "  7141.65129675  9488.28135422 13748.94315272 11437.77705477\n",
      " 24241.88257724  2772.4183849  10292.48247053  6681.23937248\n",
      "  6458.11080435   125.5174029  15993.97936767 13790.09653652\n",
      "  3018.5814812  37182.3450221  27626.51070732 15702.22926722\n",
      " 32515.66381142  5115.03088404  9860.95856219 32696.9365754\n",
      "  8720.09675395  9251.46617422 32238.9459352   6307.21904232\n",
      "  9543.98793248   985.56464013 14889.97038681 12685.4816214\n",
      "  7256.56810111  7135.44430695   847.64943753 14002.4417447\n",
      "  -217.95568065 26066.01450373 13943.14673046  4569.96692196\n",
      "  8190.70352543 29140.43155023  5815.15526839 25744.89703418\n",
      "  7566.63528135 30140.25414243 11432.90691746  5008.69912379\n",
      " 10938.05363664 37590.53205974 -1596.79020505 14527.09985468\n",
      " 10617.70103426 27949.5384628  10709.24786042 32791.09820158\n",
      " 11339.04250323  2988.39901261 12823.64620787  8288.64511989\n",
      " 13004.43398138   588.04201342  9846.42772037 12218.48236748\n",
      " 33712.37174057  5293.90000819 10490.41151099 11913.92571737\n",
      "  9520.35719585  5777.1906505   -252.12666305 16174.58416984\n",
      "  3206.00202103 34818.18721261  8619.55382775 36707.39588755\n",
      "  7939.57368123  2402.04182639 16312.18094696 10820.607775  ]\n"
     ]
    }
   ],
   "source": [
    "#Predict using the model\n",
    "Y_pred=lm.predict(X_test)\n",
    "print(Y_pred)"
   ]
  },
  {
   "cell_type": "code",
   "execution_count": 38,
   "metadata": {},
   "outputs": [
    {
     "name": "stdout",
     "output_type": "stream",
     "text": [
      "      age  sex     bmi  children  smoker  region  Actual Charges  \\\n",
      "7      37    1  27.740         3       0       2      7281.50560   \n",
      "999    36    1  26.885         0       0       2      5267.81815   \n",
      "1209   59    0  37.100         1       0       1     12347.17200   \n",
      "491    61    1  25.080         0       0       0     24513.09126   \n",
      "625    29    1  26.030         0       0       2      3736.46470   \n",
      "228    41    1  31.635         1       0       3      7358.17565   \n",
      "425    45    0  24.310         5       0       0      9788.86590   \n",
      "261    20    1  26.840         1       1       0     17085.26760   \n",
      "498    44    1  23.980         2       0       0      8211.10020   \n",
      "896    43    1  20.045         2       1       3     19798.05455   \n",
      "507    21    0  23.750         2       0       2      3077.09550   \n",
      "125    26    1  28.785         0       0       3      3385.39915   \n",
      "501    43    0  26.030         0       0       3      6837.36870   \n",
      "179    41    1  33.155         3       0       3      8538.28845   \n",
      "658    48    1  35.910         1       0       3     26392.26029   \n",
      "202    60    1  24.035         0       0       2     13012.20865   \n",
      "1099   25    1  33.990         1       0       0      3227.12110   \n",
      "908    63    0  39.800         3       0       1     15170.06900   \n",
      "87     56    1  27.200         0       0       1     11073.17600   \n",
      "827    36    0  28.025         1       1       3     20773.62775   \n",
      "123    44    0  31.350         1       1       3     39556.49450   \n",
      "414    19    1  35.150         0       0       2      2134.90150   \n",
      "31     18    1  26.315         0       0       3      2198.18985   \n",
      "426    38    1  27.265         1       0       3      6555.07035   \n",
      "1297   28    1  26.510         2       0       0      4340.44090   \n",
      "839    59    1  31.350         0       0       2     12622.17950   \n",
      "120    44    0  37.100         2       0       1      7740.33700   \n",
      "486    54    1  21.470         3       0       2     12475.35130   \n",
      "1017   26    1  34.200         2       0       1      3987.92600   \n",
      "514    39    0  28.300         1       1       1     21082.16000   \n",
      "1251   19    0  19.800         0       0       1      1241.56500   \n",
      "682    39    0  35.300         2       1       1     40103.89000   \n",
      "1057   45    1  31.790         0       0       0     17929.30337   \n",
      "384    44    0  22.135         2       0       3      8302.53565   \n",
      "1102   29    0  38.940         1       0       0      3471.40960   \n",
      "383    35    1  43.340         2       0       0      5846.91760   \n",
      "341    62    0  30.020         0       0       2     13352.09980   \n",
      "329    52    0  36.700         0       0       1      9144.56500   \n",
      "520    50    1  27.360         0       0       3     25656.57526   \n",
      "74     44    0  27.400         2       0       1      7726.85400   \n",
      "997    63    1  36.850         0       0       0     13887.96850   \n",
      "387    50    0  25.365         2       0       2     30284.64294   \n",
      "831    36    1  25.840         0       0       2      5266.36560   \n",
      "772    44    1  36.480         0       0       3     12797.20962   \n",
      "781    18    0  41.140         0       0       0      1146.79660   \n",
      "800    42    1  26.180         1       0       0      7046.72220   \n",
      "1004   47    0  19.190         1       0       3      8627.54110   \n",
      "828    41    0  30.780         3       1       3     39597.40720   \n",
      "841    59    0  24.700         0       0       3     12323.93600   \n",
      "447    56    1  25.650         0       0       2     11454.02150   \n",
      "1124   23    1  42.750         1       1       3     40904.19950   \n",
      "1243   28    1  33.110         0       0       0      3171.61490   \n",
      "820    45    0  33.700         1       0       1      7445.91800   \n",
      "56     58    1  31.825         2       0       3     13607.36875   \n",
      "539    53    0  31.350         0       0       0     27346.04207   \n",
      "190    61    0  31.570         0       0       0     12557.60530   \n",
      "16     52    1  30.780         1       0       3     10797.33620   \n",
      "922    38    0  31.000         1       0       1      5488.26200   \n",
      "878    41    0  28.800         1       0       1      6282.23500   \n",
      "1152   43    1  32.560         3       1       0     40941.28540   \n",
      "529    18    0  25.460         0       0       3      1708.00140   \n",
      "617    49    0  25.600         2       1       1     23306.54700   \n",
      "419    63    1  26.980         0       1       2     28950.46920   \n",
      "576    22    0  26.840         0       0       0      1664.99960   \n",
      "1000   30    0  22.990         2       1       2     17361.76610   \n",
      "445    45    1  33.100         0       0       1      7345.08400   \n",
      "143    29    0  29.735         2       0       2     18157.87600   \n",
      "567    41    0  30.590         2       0       2      7256.72310   \n",
      "913    44    1  27.500         1       0       1      7626.99300   \n",
      "688    47    1  24.100         1       0       1     26236.57997   \n",
      "1046   43    1  25.080         0       0       3      7325.04820   \n",
      "1283   18    0  30.030         1       0       0      1720.35370   \n",
      "1164   41    1  28.310         1       0       2      7153.55390   \n",
      "776    40    0  32.300         2       0       2      6986.69700   \n",
      "339    46    1  27.720         1       0       0      8232.63880   \n",
      "1264   49    1  33.345         2       0       3     10370.91255   \n",
      "979    36    1  29.920         0       0       0      4889.03680   \n",
      "1255   42    1  37.900         0       0       1      6474.01300   \n",
      "35     19    0  20.425         0       0       2      1625.43375   \n",
      "124    47    1  33.915         3       0       2     10115.00885   \n",
      "707    49    0  28.690         3       0       2     10264.44210   \n",
      "782    51    0  35.970         1       0       0      9386.16130   \n",
      "1204   18    1  27.280         3       1       0     18223.45120   \n",
      "326    27    1  23.210         1       0       0      3561.88890   \n",
      "1176   52    1  24.130         1       1       2     23887.66270   \n",
      "218    26    1  29.920         1       0       0      3392.97680   \n",
      "1244   18    0  33.330         0       0       0      1135.94070   \n",
      "1268   20    1  33.300         0       0       1      1880.48700   \n",
      "1153   35    1  35.815         1       0       2      5630.45785   \n",
      "679    49    1  23.180         2       0       2     10156.78320   \n",
      "461    42    0  30.000         0       1       1     22144.03200   \n",
      "1300   45    0  30.360         0       1       0     62592.87309   \n",
      "963    46    0  24.795         3       0       3      9500.57305   \n",
      "860    37    1  47.600         2       1       1     46113.51100   \n",
      "550    63    0  30.800         0       0       1     13390.55900   \n",
      "1083   32    0  31.500         1       0       1      4076.49700   \n",
      "67     40    0  26.315         1       0       2      6389.37785   \n",
      "483    51    1  39.500         1       0       1      9880.06800   \n",
      "361    35    0  30.500         1       0       1      4751.07000   \n",
      "48     60    1  24.530         0       0       0     12629.89670   \n",
      "726    41    0  28.405         1       0       2      6664.68595   \n",
      "102    18    1  30.115         0       0       3     21344.84670   \n",
      "1328   23    1  24.225         2       0       3     22395.74424   \n",
      "643    23    1  34.960         3       0       2      4466.62140   \n",
      "299    48    1  28.880         1       0       2      9249.49520   \n",
      "666    49    0  28.700         1       0       1      8703.45600   \n",
      "524    42    0  26.070         1       1       0     38245.59327   \n",
      "738    23    0  31.730         3       1       3     36189.10170   \n",
      "1085   39    1  18.300         5       1       1     19023.26000   \n",
      "413    25    0  23.900         5       0       1      5080.09600   \n",
      "1009   51    0  27.740         1       0       3      9957.72160   \n",
      "43     37    1  30.800         2       0       0      6313.75900   \n",
      "307    30    1  33.330         1       0       0      4151.02870   \n",
      "773    19    1  28.880         0       1       2     17748.50620   \n",
      "203    27    1  36.080         0       1       0     37133.89820   \n",
      "1307   32    0  28.120         4       1       2     21472.47880   \n",
      "784    31    1  29.260         1       0       0      4350.51440   \n",
      "1218   46    1  34.600         1       1       1     41661.60200   \n",
      "1238   37    0  22.705         3       0       3      6985.50695   \n",
      "1008   25    0  24.985         2       0       3     23241.47453   \n",
      "558    35    1  34.105         3       1       2     39983.42595   \n",
      "601    51    0  31.635         0       0       2      9174.13565   \n",
      "234    39    0  24.510         2       0       2      6710.19190   \n",
      "1248   18    1  39.820         0       0       0      1633.96180   \n",
      "109    63    0  35.090         0       1       0     47055.53210   \n",
      "1178   23    1  34.865         0       0       3      2899.48935   \n",
      "719    58    1  33.440         0       0       2     12231.61360   \n",
      "145    29    1  38.830         3       0       0      5138.25670   \n",
      "112    37    0  30.800         0       0       1      4646.75900   \n",
      "580    59    0  25.460         1       0       3     12913.99240   \n",
      "245    54    0  30.020         0       0       2     24476.47851   \n",
      "11     62    1  26.290         0       1       0     27808.72510   \n",
      "375    23    1  28.310         0       1       2     18033.96790   \n",
      "1053   47    0  29.800         3       1       1     25309.48900   \n",
      "811    33    1  42.940         3       0       2      6360.99360   \n",
      "1208   37    1  25.555         1       1       3     20296.86345   \n",
      "1333   50    0  30.970         3       0       2     10600.54830   \n",
      "735    49    1  34.770         1       0       2      9583.89330   \n",
      "689    27    0  31.130         1       1       0     34806.46770   \n",
      "1064   29    1  25.600         4       0       1      5708.86700   \n",
      "1173   38    0  29.260         2       0       2      6457.84340   \n",
      "1304   42    0  24.605         2       1       3     21259.37795   \n",
      "278    59    0  31.790         2       0       0     12928.79110   \n",
      "1108   26    0  30.000         1       0       1      2904.08800   \n",
      "212    24    0  28.500         2       0       2      3537.70300   \n",
      "373    26    0  32.900         2       1       1     36085.21900   \n",
      "619    55    1  37.100         0       0       1     10713.64400   \n",
      "1003   48    0  29.600         0       0       1     21232.18226   \n",
      "870    50    0  36.200         0       0       1      8457.81800   \n",
      "1195   19    1  27.930         3       0       2     18838.70366   \n",
      "699    23    1  39.270         2       0       0      3500.61230   \n",
      "613    34    1  19.000         3       0       3      6753.03800   \n",
      "513    19    0  30.400         0       0       1      1256.29900   \n",
      "668    62    0  32.015         0       1       3     45710.20785   \n",
      "1145   52    0  32.775         3       0       2     11289.10925   \n",
      "866    18    0  37.290         0       0       0      1141.44510   \n",
      "904    60    1  35.100         0       0       1     12644.58900   \n",
      "940    18    0  23.210         0       0       0      1121.87390   \n",
      "1018   54    1  35.815         3       0       2     12495.29085   \n",
      "886    57    0  28.975         0       1       3     27218.43725   \n",
      "868    61    0  23.655         0       0       3     13129.60345   \n",
      "358    23    0  41.910         0       0       0      1837.28190   \n",
      "879    37    1  29.500         2       0       1      6311.95200   \n",
      "233    59    0  27.500         1       0       1     12333.82800   \n",
      "858    25    1  32.230         1       0       0     18218.16139   \n",
      "39     60    0  39.900         0       1       1     48173.36100   \n",
      "729    41    1  36.080         1       0       0      6781.35420   \n",
      "521    32    1  44.220         0       0       0      3994.17780   \n",
      "822    18    1  31.130         0       0       0      1621.88270   \n",
      "463    56    0  25.935         0       0       3     11165.41765   \n",
      "1203   51    0  32.300         1       0       3      9964.06000   \n",
      "598    43    0  32.600         2       0       1      7441.50100   \n",
      "518    35    1  31.000         1       0       1      5240.76500   \n",
      "454    32    0  46.530         2       0       0      4686.38870   \n",
      "142    34    0  25.300         2       1       0     18972.49500   \n",
      "1198   40    0  29.355         1       0       2      6393.60345   \n",
      "1286   28    1  17.290         0       0       3      3732.62510   \n",
      "334    43    1  35.720         2       0       3     19144.57652   \n",
      "907    44    1  32.340         1       0       0      7633.72060   \n",
      "1172   56    1  41.910         0       0       0     11093.62290   \n",
      "420    64    0  33.880         0       1       0     46889.26120   \n",
      "1294   58    0  25.175         0       0       3     11931.12525   \n",
      "1081   32    0  27.835         1       0       2      4454.40265   \n",
      "442    18    0  43.010         0       0       0      1149.39590   \n",
      "223    19    0  34.800         0       1       1     34779.61500   \n",
      "1261   28    0  37.100         1       0       1      3277.16100   \n",
      "843    57    1  29.810         0       1       0     27533.91290   \n",
      "1275   57    0  23.700         0       0       1     10959.33000   \n",
      "411    44    1  20.235         1       1       3     19594.80965   \n",
      "217    27    0  23.100         0       0       0      2483.73600   \n",
      "731    53    0  21.400         1       0       1     10065.41300   \n",
      "450    39    0  29.600         4       0       1      7512.26700   \n",
      "305    29    0  33.345         2       0       2     19442.35350   \n",
      "794    39    1  31.920         2       0       2      7209.49180   \n",
      "1094   50    1  33.700         4       0       1     11299.34300   \n",
      "544    54    0  30.210         0       0       2     10231.49990   \n",
      "64     20    1  22.420         0       1       2     14711.74380   \n",
      "431    29    1  20.235         2       0       2      4906.40965   \n",
      "370    61    1  21.090         0       0       2     13415.03810   \n",
      "646    39    0  26.220         1       0       2      6123.56880   \n",
      "709    36    1  27.740         0       0       3      5469.00660   \n",
      "121    18    0  23.750         0       0       3      1705.62450   \n",
      "304    57    1  38.000         2       0       1     12646.20700   \n",
      "660    37    0  46.530         3       0       0      6435.62370   \n",
      "525    18    1  33.880         0       0       0     11482.63485   \n",
      "706    51    1  38.060         0       1       0     44400.40640   \n",
      "69     28    0  23.980         3       1       0     17663.14420   \n",
      "267    59    1  32.395         3       0       3     14590.63205   \n",
      "29     31    0  36.300         2       1       1     38711.00000   \n",
      "139    22    1  36.000         0       0       1      2166.73200   \n",
      "171    49    0  30.300         0       0       1      8116.68000   \n",
      "298    31    0  34.390         3       1       2     38746.35510   \n",
      "814    36    0  34.430         2       0       0      5584.30570   \n",
      "188    41    1  32.200         1       0       1      6775.96100   \n",
      "819    33    1  35.530         0       1       2     55135.40209   \n",
      "1123   27    1  32.395         1       0       3     18903.49141   \n",
      "68     40    1  36.190         0       0       0      5920.10410   \n",
      "990    26    1  19.800         1       0       1      3378.91000   \n",
      "366    56    1  32.300         3       0       3     13430.26500   \n",
      "1087   57    0  31.540         0       0       2     11353.22760   \n",
      "222    32    0  30.800         3       0       1      5253.52400   \n",
      "440    31    1  32.680         1       0       2      4738.26820   \n",
      "492    18    1  25.080         0       0       3      2196.47320   \n",
      "225    55    0  33.880         3       0       0     11987.16820   \n",
      "1292   21    0  23.210         0       0       0      1515.34490   \n",
      "1170   18    0  27.360         1       1       3     17178.68240   \n",
      "27     55    1  32.775         2       0       2     12268.63225   \n",
      "354    18    1  38.280         0       0       0     14133.03775   \n",
      "318    44    1  27.645         0       0       2      7421.19455   \n",
      "842    23    1  32.780         2       1       0     36021.01120   \n",
      "872    42    0  24.860         0       0       0      5966.88740   \n",
      "126    19    1  28.300         0       1       1     17081.08000   \n",
      "1247   33    0  29.400         4       0       1      6059.17300   \n",
      "1036   22    0  37.070         2       1       0     37484.44930   \n",
      "1105   54    1  31.240         0       0       0     10338.93160   \n",
      "174    24    1  33.345         0       0       2      2855.43755   \n",
      "131    61    1  22.040         0       0       3     13616.35860   \n",
      "244    63    1  27.740         0       1       3     29523.16560   \n",
      "359    18    1  20.790         0       0       0      1607.51010   \n",
      "702    53    0  41.470         0       0       0      9504.31030   \n",
      "980    54    0  25.460         1       0       3     25517.11363   \n",
      "795    27    0  28.500         0       1       2     18310.74200   \n",
      "779    53    0  28.880         0       0       2      9869.81020   \n",
      "1207   36    0  33.400         2       1       1     38415.47400   \n",
      "1061   57    0  27.940         1       0       0     11554.22360   \n",
      "957    24    0  26.790         1       0       2     12609.88702   \n",
      "1228   56    0  34.430         0       0       0     10594.22570   \n",
      "1239   25    1  42.130         1       0       0      3238.43570   \n",
      "1051   64    0  26.410         0       0       3     14394.55790   \n",
      "882    21    1  22.135         0       0       3      2585.85065   \n",
      "930    26    0  46.530         1       0       0      2927.06470   \n",
      "1125   63    1  25.080         0       0       2     14254.60820   \n",
      "725    30    1  39.050         3       1       0     40932.42950   \n",
      "191    36    1  26.200         0       0       1      4883.86600   \n",
      "996    39    1  34.100         3       0       1      7418.52200   \n",
      "1144   50    0  32.300         2       0       1      9630.39700   \n",
      "60     43    0  27.360         3       0       3      8606.21740   \n",
      "104    34    1  27.500         1       0       1      5003.85300   \n",
      "821    26    0  17.670         0       0       2      2680.94930   \n",
      "941    50    1  46.090         1       0       0      9549.56510   \n",
      "555    28    0  23.800         2       0       1      3847.67400   \n",
      "301    53    1  22.610         3       1       3     24873.38490   \n",
      "1197   41    0  33.550         0       0       0      5699.83750   \n",
      "271    50    0  34.200         2       1       1     42856.83800   \n",
      "695    26    1  40.185         0       0       2      3201.24515   \n",
      "1039   19    0  27.265         2       0       2     22493.65964   \n",
      "323    57    0  40.945         0       0       3     11566.30055   \n",
      "835    42    0  35.970         2       0       0      7160.33030   \n",
      "\n",
      "      Predicted Charges  \n",
      "7           8039.391948  \n",
      "999         5846.035460  \n",
      "1209       15398.533239  \n",
      "491        11078.081103  \n",
      "625         3727.459259  \n",
      "228         9673.480072  \n",
      "425         9120.505818  \n",
      "261        25723.196012  \n",
      "498         7365.448348  \n",
      "896        30773.821023  \n",
      "507         1681.871784  \n",
      "125         4230.687985  \n",
      "501         7419.109285  \n",
      "179        11297.617493  \n",
      "658        12997.905866  \n",
      "202        11071.265267  \n",
      "1099        5418.582054  \n",
      "908        18477.074773  \n",
      "87         10838.241331  \n",
      "827        30973.063608  \n",
      "123        34222.118868  \n",
      "414         4347.181311  \n",
      "31          1283.095124  \n",
      "426         7353.909201  \n",
      "1297        4104.091998  \n",
      "839        13390.855876  \n",
      "120        12048.820081  \n",
      "486        10241.658359  \n",
      "1017        6606.928217  \n",
      "514        31227.562365  \n",
      "1251       -1628.841824  \n",
      "682        34239.777700  \n",
      "1057        9290.540922  \n",
      "384         7393.572537  \n",
      "1102        7949.050893  \n",
      "383        11855.255112  \n",
      "341        13447.486900  \n",
      "329        12896.282262  \n",
      "520         9958.355122  \n",
      "74          8628.720360  \n",
      "997        15747.212530  \n",
      "387         9779.343656  \n",
      "831         5477.581418  \n",
      "772        11616.427919  \n",
      "781         5325.176932  \n",
      "800         7077.863561  \n",
      "1004        6589.862978  \n",
      "828        34330.585146  \n",
      "841        11103.570754  \n",
      "447        10602.343497  \n",
      "1124       33043.466627  \n",
      "1243        5342.965890  \n",
      "820        10565.507793  \n",
      "56         14697.564515  \n",
      "539        10958.913341  \n",
      "190        13113.184102  \n",
      "16         12227.482221  \n",
      "922         7796.407469  \n",
      "878         7799.477807  \n",
      "1152       34798.718135  \n",
      "529          728.442199  \n",
      "617        33415.554840  \n",
      "419        37011.952538  \n",
      "576         1321.524994  \n",
      "1000       27873.748113  \n",
      "445        10063.043625  \n",
      "143         5868.810060  \n",
      "567         9285.324692  \n",
      "913         8373.067512  \n",
      "688         7953.032730  \n",
      "1046        7337.341591  \n",
      "1283        1952.030828  \n",
      "1164        8190.513356  \n",
      "776         9628.661802  \n",
      "339         8659.199210  \n",
      "1264       12897.208492  \n",
      "979         6294.912935  \n",
      "1255       10976.701047  \n",
      "35         -1097.861627  \n",
      "124        12812.497240  \n",
      "707        11236.211875  \n",
      "782        12612.794816  \n",
      "1204       26447.363453  \n",
      "326         2136.863097  \n",
      "1176       33695.715464  \n",
      "218         4243.138208  \n",
      "1244        2571.467775  \n",
      "1268        3643.868991  \n",
      "1153        9279.157178  \n",
      "679         9002.542590  \n",
      "461        32061.622209  \n",
      "1300       32656.703858  \n",
      "963         9394.733060  \n",
      "860        38310.620337  \n",
      "550        13671.479968  \n",
      "1083        6415.175153  \n",
      "67          6974.322881  \n",
      "483        14421.232517  \n",
      "361         6841.350611  \n",
      "48         10624.570237  \n",
      "726         7970.818651  \n",
      "102         2622.928004  \n",
      "1328        2932.329739  \n",
      "643         6950.846815  \n",
      "299        10208.602091  \n",
      "666         9840.920536  \n",
      "524        30909.442129  \n",
      "738        29992.965016  \n",
      "1085       30131.285427  \n",
      "413         4094.804126  \n",
      "1009       10642.837704  \n",
      "43          7952.981978  \n",
      "307         6483.812669  \n",
      "773        26260.010788  \n",
      "203        30254.117107  \n",
      "1307       31289.902143  \n",
      "784         5308.368822  \n",
      "1218       35519.168575  \n",
      "1238        6321.535800  \n",
      "1008        3466.281161  \n",
      "558        33887.990380  \n",
      "601        11161.451327  \n",
      "234         6622.416711  \n",
      "1248        5112.951826  \n",
      "109        38997.021557  \n",
      "1178        5595.657536  \n",
      "719        13868.176274  \n",
      "145         9251.661053  \n",
      "112         6922.200129  \n",
      "580        11915.639465  \n",
      "245        11370.785411  \n",
      "11         35887.853516  \n",
      "375        27097.386601  \n",
      "1053       34921.349523  \n",
      "811        12360.372726  \n",
      "1208       30614.950448  \n",
      "1333       12299.699289  \n",
      "735        12544.930742  \n",
      "689        28799.720094  \n",
      "1064        5441.642183  \n",
      "1173        8037.620125  \n",
      "1304       31868.842267  \n",
      "278        13759.782271  \n",
      "1108        4328.767635  \n",
      "212         4135.425943  \n",
      "373        30018.927540  \n",
      "619        14069.270887  \n",
      "1003        9354.559556  \n",
      "870        12200.813089  \n",
      "1195        3433.805241  \n",
      "699         7305.171345  \n",
      "613         4489.626210  \n",
      "513         2108.586738  \n",
      "668        38585.065838  \n",
      "1145       13455.295280  \n",
      "866         3967.714671  \n",
      "904        14662.034117  \n",
      "940         -996.718739  \n",
      "1018       15299.527483  \n",
      "886        36215.261103  \n",
      "868        11254.292085  \n",
      "358         6894.607815  \n",
      "879         7805.231044  \n",
      "233        12013.692277  \n",
      "858         4798.027878  \n",
      "39         40224.817801  \n",
      "729        10308.893117  \n",
      "521        10298.564873  \n",
      "822         2048.965581  \n",
      "463        10760.253382  \n",
      "1203       12250.637161  \n",
      "598        10202.588195  \n",
      "518         7270.834937  \n",
      "454        11948.055972  \n",
      "142        29105.350322  \n",
      "1198        8046.189185  \n",
      "1286         696.868894  \n",
      "334        12177.077925  \n",
      "907         9768.978551  \n",
      "1172       15714.191984  \n",
      "420        38829.978247  \n",
      "1294       11011.462178  \n",
      "1081        5433.554544  \n",
      "442         5984.515744  \n",
      "223        27783.525909  \n",
      "1261        7351.314969  \n",
      "843        35831.023437  \n",
      "1275        9610.581890  \n",
      "411        30556.298218  \n",
      "217         1300.785800  \n",
      "731         8305.381800  \n",
      "450         9194.678918  \n",
      "305         7141.651297  \n",
      "794         9488.281354  \n",
      "1094       13748.943153  \n",
      "544        11437.777055  \n",
      "64         24241.882577  \n",
      "431         2772.418385  \n",
      "370        10292.482471  \n",
      "646         6681.239372  \n",
      "709         6458.110804  \n",
      "121          125.517403  \n",
      "304        15993.979368  \n",
      "660        13790.096537  \n",
      "525         3018.581481  \n",
      "706        37182.345022  \n",
      "69         27626.510707  \n",
      "267        15702.229267  \n",
      "29         32515.663811  \n",
      "139         5115.030884  \n",
      "171         9860.958562  \n",
      "298        32696.936575  \n",
      "814         8720.096754  \n",
      "188         9251.466174  \n",
      "819        32238.945935  \n",
      "1123        6307.219042  \n",
      "68          9543.987932  \n",
      "990          985.564640  \n",
      "366        14889.970387  \n",
      "1087       12685.481621  \n",
      "222         7256.568101  \n",
      "440         7135.444307  \n",
      "492          847.649438  \n",
      "225        14002.441745  \n",
      "1292        -217.955681  \n",
      "1170       26066.014504  \n",
      "27         13943.146730  \n",
      "354         4569.966922  \n",
      "318         8190.703525  \n",
      "842        29140.431550  \n",
      "872         5815.155268  \n",
      "126        25744.897034  \n",
      "1247        7566.635281  \n",
      "1036       30140.254142  \n",
      "1105       11432.906917  \n",
      "174         5008.699124  \n",
      "131        10938.053637  \n",
      "244        37590.532060  \n",
      "359        -1596.790205  \n",
      "702        14527.099855  \n",
      "980        10617.701034  \n",
      "795        27949.538463  \n",
      "779        10709.247860  \n",
      "1207       32791.098202  \n",
      "1061       11339.042503  \n",
      "957         2988.399013  \n",
      "1228       12823.646208  \n",
      "1239        8288.645120  \n",
      "1051       13004.433981  \n",
      "882          588.042013  \n",
      "930         9846.427720  \n",
      "1125       12218.482367  \n",
      "725        33712.371741  \n",
      "191         5293.900008  \n",
      "996        10490.411511  \n",
      "1144       11913.925717  \n",
      "60          9520.357196  \n",
      "104         5777.190651  \n",
      "821         -252.126663  \n",
      "941        16174.584170  \n",
      "555         3206.002021  \n",
      "301        34818.187213  \n",
      "1197        8619.553828  \n",
      "271        36707.395888  \n",
      "695         7939.573681  \n",
      "1039        2402.041826  \n",
      "323        16312.180947  \n",
      "835        10820.607775  \n"
     ]
    }
   ],
   "source": [
    "new_df=pd.DataFrame()\n",
    "new_df=X_test\n",
    "\n",
    "new_df[\"Actual Charges\"]=Y_test\n",
    "new_df[\"Predicted Charges\"]=Y_pred\n",
    "print(new_df)"
   ]
  },
  {
   "cell_type": "code",
   "execution_count": 39,
   "metadata": {},
   "outputs": [
    {
     "name": "stdout",
     "output_type": "stream",
     "text": [
      "0.6953067620943834\n",
      "6537.0818583559\n",
      "0.6939332388581447\n"
     ]
    }
   ],
   "source": [
    "from sklearn.metrics import r2_score,mean_squared_error\n",
    "import numpy as np\n",
    "r2=r2_score(Y_test,Y_pred)\n",
    "print(r2)\n",
    "rmse=np.sqrt(mean_squared_error(Y_test,Y_pred))\n",
    "print(rmse)\n",
    "adjusted_r_squared = 1 - (1-r2)*(len(Y)-1)/(len(Y)-X.shape[1]-1)\n",
    "print(adjusted_r_squared)"
   ]
  },
  {
   "cell_type": "code",
   "execution_count": 40,
   "metadata": {},
   "outputs": [
    {
     "name": "stdout",
     "output_type": "stream",
     "text": [
      "1121.8739\n",
      "62592.87309\n"
     ]
    }
   ],
   "source": [
    "##Comparing the error with range of y  \n",
    "##\n",
    "print(min(Y_test))\n",
    "print(max(Y_test))"
   ]
  },
  {
   "cell_type": "markdown",
   "metadata": {},
   "source": [
    "# Tunning the model-Using feature selection"
   ]
  },
  {
   "cell_type": "code",
   "execution_count": 41,
   "metadata": {},
   "outputs": [],
   "source": [
    "#df=df.drop([\"region\"] ,axis=1)\n",
    "#df.shape"
   ]
  },
  {
   "cell_type": "code",
   "execution_count": 42,
   "metadata": {},
   "outputs": [],
   "source": [
    "#Removing region from the df\n",
    "X=df[[\"age\",\"sex\",\"bmi\",\"children\",\"smoker\",]]\n",
    "Y=df[\"charges\"]\n",
    "\n",
    "#Splitting the data using sklearn\n",
    "from sklearn.model_selection import train_test_split\n",
    "#splitting the data into train & test\n",
    "X_train, X_test, Y_train, Y_test=train_test_split(X,Y, test_size=0.2, random_state=10)"
   ]
  },
  {
   "cell_type": "code",
   "execution_count": 43,
   "metadata": {},
   "outputs": [
    {
     "name": "stdout",
     "output_type": "stream",
     "text": [
      "-12962.052840467362\n",
      "[  259.86118981   245.97030517   338.54702203   542.26451254\n",
      " 24083.33488137]\n"
     ]
    }
   ],
   "source": [
    "#Creating the Model object\n",
    "from sklearn.linear_model import LinearRegression\n",
    "lm=LinearRegression()\n",
    "lm.fit(X_train,Y_train)\n",
    "\n",
    "#print intercept and coefficients\n",
    "print(lm.intercept_)\n",
    "print(lm.coef_)\n"
   ]
  },
  {
   "cell_type": "code",
   "execution_count": 44,
   "metadata": {},
   "outputs": [
    {
     "name": "stdout",
     "output_type": "stream",
     "text": [
      "[('age', 259.86118981072326), ('sex', 245.97030517270466), ('bmi', 338.54702202904923), ('children', 542.2645125354302), ('smoker', 24083.334881365157)]\n"
     ]
    }
   ],
   "source": [
    "print(list(zip(X.columns,lm.coef_)))"
   ]
  },
  {
   "cell_type": "code",
   "execution_count": 45,
   "metadata": {},
   "outputs": [
    {
     "name": "stdout",
     "output_type": "stream",
     "text": [
      "[ 7916.86941639  5740.75698514 15472.11638818 11626.20935565\n",
      "  3632.27095263  9190.42580137  9673.10136922 26193.34272608\n",
      "  7920.6964297  30411.98758957  1620.05294382  3785.38442889\n",
      "  7024.35730481 10789.54629992 12456.74264922 11012.56652782\n",
      "  5829.92500128 18510.16713197 11044.6230933  30506.32967898\n",
      " 33710.88804572  4121.20789543   870.28376599  6931.39174567\n",
      "  4619.44135847 13229.17680415 12116.46305355 10211.81981505\n",
      "  6703.14557825 31379.01367947 -1321.45919789 34291.10734621\n",
      "  9740.08083649  7050.10686889  8299.20721439 12136.21606789\n",
      " 13312.52252911 12975.40473816  9539.62347796  8832.55693987\n",
      " 16130.63018455  9702.78088891  5386.97534712 11068.00518\n",
      "  5643.2730624   7603.51298601  6290.40494591 33822.8616988\n",
      " 10731.86880248 10519.87520915 32359.20941599  5769.32267879\n",
      " 10682.99985593 14214.65447487 11424.03936011 13577.40922344\n",
      " 11759.44118545  7949.89456778  7984.67468874 35191.1680828\n",
      "   334.85575699 33605.81313064 36872.50595849  1841.49540663\n",
      " 27784.84279674 10183.57743535  5725.14638915  9132.93837071\n",
      "  8570.11743471  8198.64112924  6948.70793905  2424.28016019\n",
      "  8064.75695312  9451.99258857  9164.32015918 12390.49524006\n",
      "  6768.247197   11029.01957166 -1109.86730912 12606.00917553\n",
      " 11110.85305988 13010.6687348  26907.11006122  2700.11048342\n",
      " 33591.43837032  4711.89981143  2999.22082035  3754.75709449\n",
      "  9046.38521459  8949.16476114 32191.86267382 33093.32317118\n",
      "  9012.62883964 38181.48364272 13836.4503961   6560.00093993\n",
      "  6883.52414919 14451.71002774  7001.03748733 11180.14730372\n",
      "  7850.94861504  2156.7624497   2546.55546408  6723.12225809\n",
      " 10076.75708435 10029.70950503 31403.63738978 29466.97995313\n",
      " 30408.5718145   4337.07329397 10224.4267435   8410.55879127\n",
      "  6905.78991579 26081.85294867 30598.28102577 31125.84042444\n",
      "  5787.76472594 35576.8585521   5966.31485531  3077.60327527\n",
      " 33635.33371335 11000.80288177  6554.85009715  5442.3612985\n",
      " 39372.15200197  5064.16675339 13676.87889038  9592.46637221\n",
      "  7080.05946102 11531.42905176 11233.63301062 36379.04732348\n",
      " 26928.32590536 35050.25275607 12023.33939199 30175.95002956\n",
      " 12142.60145991 12330.66023392 29218.76747409  5655.7537833\n",
      "  7903.08726198 31449.93051504 14216.69621374  4493.01326802\n",
      "  4007.73486789 30100.3990258  14136.37742157  9532.27612251\n",
      " 12286.40884752  3303.69193399  7639.9954105   4178.38487443\n",
      "  2267.13923562 38071.25871942 13273.4012143   4339.86702759\n",
      " 14758.58932657  -426.87504258 15068.27684606 35742.7698234\n",
      " 10897.80954408  7203.26021842  7970.44766263 12222.0649767\n",
      "  5234.08224251 40220.9796085  10695.26731429 10570.02485277\n",
      "  2500.38767706 10370.39080526 11768.20116395 10333.14026461\n",
      "  7416.28130352 12190.62719356 29606.33117687  7912.70709616\n",
      "   413.50879029 11635.37727851 10208.68502133 16024.64978734\n",
      " 39222.37129513 10632.81744814  5319.22610419  6276.3559936\n",
      " 27840.08101391  7416.41950405 36271.42689197  9873.59940083\n",
      " 30193.90820104  1874.63549329  8597.76100346  9362.58346435\n",
      "  6947.30113867  9309.45383556 13855.06964776 11297.95694481\n",
      " 24154.70037618  2754.91998504 10275.40673775  6591.50099229\n",
      "  6030.21468898  -244.05965068 16045.32114609 14032.19765515\n",
      "  3431.39198764 37505.27268484 28142.54648146 15209.75197978\n",
      " 32550.76484976  5188.55643359 10029.12022774 32446.40455022\n",
      "  9133.65298625  9381.70486882 31971.24730252  5809.66488076\n",
      "  9930.38178437  1285.80394849 14398.00644325 12527.80805354\n",
      "  7407.54704958  6945.59554128   452.17819379 14427.07924307\n",
      "   352.70852685 25603.69449274 13756.69057637  4920.99888457\n",
      "  8076.94224037 29526.1601189   6368.39609923 25885.4956759\n",
      "  7735.70692108 30472.69534842 11892.63068267  4809.43646972\n",
      " 10597.02640868 37129.80169523 -1000.18853072 14850.13522305\n",
      " 10232.12310271 27786.12429362 10587.8282157  32868.28443492\n",
      " 11851.30328677  2886.55494768 13246.34775739  8585.69776059\n",
      " 12610.09015921   234.74078334 10089.19554216 12145.93173527\n",
      " 34010.14278823  5508.85227505 10589.75085612 12050.60448668\n",
      "  9101.41838171  5971.5055366   -223.53602614 16422.8737131\n",
      "  3456.0086236  34421.23711172  9050.50853085 36777.1787099\n",
      "  7644.82048002  2290.32334663 15711.84279572 11214.18253904]\n"
     ]
    }
   ],
   "source": [
    "#Predict using the model\n",
    "Y_pred=lm.predict(X_test)\n",
    "print(Y_pred)"
   ]
  },
  {
   "cell_type": "code",
   "execution_count": 46,
   "metadata": {},
   "outputs": [
    {
     "name": "stdout",
     "output_type": "stream",
     "text": [
      "      age  sex     bmi  children  smoker  Actual Charges  Predicted Charges\n",
      "7      37    1  27.740         3       0      7281.50560        7916.869416\n",
      "999    36    1  26.885         0       0      5267.81815        5740.756985\n",
      "1209   59    0  37.100         1       0     12347.17200       15472.116388\n",
      "491    61    1  25.080         0       0     24513.09126       11626.209356\n",
      "625    29    1  26.030         0       0      3736.46470        3632.270953\n",
      "228    41    1  31.635         1       0      7358.17565        9190.425801\n",
      "425    45    0  24.310         5       0      9788.86590        9673.101369\n",
      "261    20    1  26.840         1       1     17085.26760       26193.342726\n",
      "498    44    1  23.980         2       0      8211.10020        7920.696430\n",
      "896    43    1  20.045         2       1     19798.05455       30411.987590\n",
      "507    21    0  23.750         2       0      3077.09550        1620.052944\n",
      "125    26    1  28.785         0       0      3385.39915        3785.384429\n",
      "501    43    0  26.030         0       0      6837.36870        7024.357305\n",
      "179    41    1  33.155         3       0      8538.28845       10789.546300\n",
      "658    48    1  35.910         1       0     26392.26029       12456.742649\n",
      "202    60    1  24.035         0       0     13012.20865       11012.566528\n",
      "1099   25    1  33.990         1       0      3227.12110        5829.925001\n",
      "908    63    0  39.800         3       0     15170.06900       18510.167132\n",
      "87     56    1  27.200         0       0     11073.17600       11044.623093\n",
      "827    36    0  28.025         1       1     20773.62775       30506.329679\n",
      "123    44    0  31.350         1       1     39556.49450       33710.888046\n",
      "414    19    1  35.150         0       0      2134.90150        4121.207895\n",
      "31     18    1  26.315         0       0      2198.18985         870.283766\n",
      "426    38    1  27.265         1       0      6555.07035        6931.391746\n",
      "1297   28    1  26.510         2       0      4340.44090        4619.441358\n",
      "839    59    1  31.350         0       0     12622.17950       13229.176804\n",
      "120    44    0  37.100         2       0      7740.33700       12116.463054\n",
      "486    54    1  21.470         3       0     12475.35130       10211.819815\n",
      "1017   26    1  34.200         2       0      3987.92600        6703.145578\n",
      "514    39    0  28.300         1       1     21082.16000       31379.013679\n",
      "1251   19    0  19.800         0       0      1241.56500       -1321.459198\n",
      "682    39    0  35.300         2       1     40103.89000       34291.107346\n",
      "1057   45    1  31.790         0       0     17929.30337        9740.080836\n",
      "384    44    0  22.135         2       0      8302.53565        7050.106869\n",
      "1102   29    0  38.940         1       0      3471.40960        8299.207214\n",
      "383    35    1  43.340         2       0      5846.91760       12136.216068\n",
      "341    62    0  30.020         0       0     13352.09980       13312.522529\n",
      "329    52    0  36.700         0       0      9144.56500       12975.404738\n",
      "520    50    1  27.360         0       0     25656.57526        9539.623478\n",
      "74     44    0  27.400         2       0      7726.85400        8832.556940\n",
      "997    63    1  36.850         0       0     13887.96850       16130.630185\n",
      "387    50    0  25.365         2       0     30284.64294        9702.780889\n",
      "831    36    1  25.840         0       0      5266.36560        5386.975347\n",
      "772    44    1  36.480         0       0     12797.20962       11068.005180\n",
      "781    18    0  41.140         0       0      1146.79660        5643.273062\n",
      "800    42    1  26.180         1       0      7046.72220        7603.512986\n",
      "1004   47    0  19.190         1       0      8627.54110        6290.404946\n",
      "828    41    0  30.780         3       1     39597.40720       33822.861699\n",
      "841    59    0  24.700         0       0     12323.93600       10731.868802\n",
      "447    56    1  25.650         0       0     11454.02150       10519.875209\n",
      "1124   23    1  42.750         1       1     40904.19950       32359.209416\n",
      "1243   28    1  33.110         0       0      3171.61490        5769.322679\n",
      "820    45    0  33.700         1       0      7445.91800       10682.999856\n",
      "56     58    1  31.825         2       0     13607.36875       14214.654475\n",
      "539    53    0  31.350         0       0     27346.04207       11424.039360\n",
      "190    61    0  31.570         0       0     12557.60530       13577.409223\n",
      "16     52    1  30.780         1       0     10797.33620       11759.441185\n",
      "922    38    0  31.000         1       0      5488.26200        7949.894568\n",
      "878    41    0  28.800         1       0      6282.23500        7984.674689\n",
      "1152   43    1  32.560         3       1     40941.28540       35191.168083\n",
      "529    18    0  25.460         0       0      1708.00140         334.855757\n",
      "617    49    0  25.600         2       1     23306.54700       33605.813131\n",
      "419    63    1  26.980         0       1     28950.46920       36872.505958\n",
      "576    22    0  26.840         0       0      1664.99960        1841.495407\n",
      "1000   30    0  22.990         2       1     17361.76610       27784.842797\n",
      "445    45    1  33.100         0       0      7345.08400       10183.577435\n",
      "143    29    0  29.735         2       0     18157.87600        5725.146389\n",
      "567    41    0  30.590         2       0      7256.72310        9132.938371\n",
      "913    44    1  27.500         1       0      7626.99300        8570.117435\n",
      "688    47    1  24.100         1       0     26236.57997        8198.641129\n",
      "1046   43    1  25.080         0       0      7325.04820        6948.707939\n",
      "1283   18    0  30.030         1       0      1720.35370        2424.280160\n",
      "1164   41    1  28.310         1       0      7153.55390        8064.756953\n",
      "776    40    0  32.300         2       0      6986.69700        9451.992589\n",
      "339    46    1  27.720         1       0      8232.63880        9164.320159\n",
      "1264   49    1  33.345         2       0     10370.91255       12390.495240\n",
      "979    36    1  29.920         0       0      4889.03680        6768.247197\n",
      "1255   42    1  37.900         0       0      6474.01300       11029.019572\n",
      "35     19    0  20.425         0       0      1625.43375       -1109.867309\n",
      "124    47    1  33.915         3       0     10115.00885       12606.009176\n",
      "707    49    0  28.690         3       0     10264.44210       11110.853060\n",
      "782    51    0  35.970         1       0      9386.16130       13010.668735\n",
      "1204   18    1  27.280         3       1     18223.45120       26907.110061\n",
      "326    27    1  23.210         1       0      3561.88890        2700.110483\n",
      "1176   52    1  24.130         1       1     23887.66270       33591.438370\n",
      "218    26    1  29.920         1       0      3392.97680        4711.899811\n",
      "1244   18    0  33.330         0       0      1135.94070        2999.220820\n",
      "1268   20    1  33.300         0       0      1880.48700        3754.757094\n",
      "1153   35    1  35.815         1       0      5630.45785        9046.385215\n",
      "679    49    1  23.180         2       0     10156.78320        8949.164761\n",
      "461    42    0  30.000         0       1     22144.03200       32191.862674\n",
      "1300   45    0  30.360         0       1     62592.87309       33093.323171\n",
      "963    46    0  24.795         3       0      9500.57305        9012.628840\n",
      "860    37    1  47.600         2       1     46113.51100       38181.483643\n",
      "550    63    0  30.800         0       0     13390.55900       13836.450396\n",
      "1083   32    0  31.500         1       0      4076.49700        6560.000940\n",
      "67     40    0  26.315         1       0      6389.37785        6883.524149\n",
      "483    51    1  39.500         1       0      9880.06800       14451.710028\n",
      "361    35    0  30.500         1       0      4751.07000        7001.037487\n",
      "48     60    1  24.530         0       0     12629.89670       11180.147304\n",
      "726    41    0  28.405         1       0      6664.68595        7850.948615\n",
      "102    18    1  30.115         0       0     21344.84670        2156.762450\n",
      "1328   23    1  24.225         2       0     22395.74424        2546.555464\n",
      "643    23    1  34.960         3       0      4466.62140        6723.122258\n",
      "299    48    1  28.880         1       0      9249.49520       10076.757084\n",
      "666    49    0  28.700         1       0      8703.45600       10029.709505\n",
      "524    42    0  26.070         1       1     38245.59327       31403.637390\n",
      "738    23    0  31.730         3       1     36189.10170       29466.979953\n",
      "1085   39    1  18.300         5       1     19023.26000       30408.571814\n",
      "413    25    0  23.900         5       0      5080.09600        4337.073294\n",
      "1009   51    0  27.740         1       0      9957.72160       10224.426744\n",
      "43     37    1  30.800         2       0      6313.75900        8410.558791\n",
      "307    30    1  33.330         1       0      4151.02870        6905.789916\n",
      "773    19    1  28.880         0       1     17748.50620       26081.852949\n",
      "203    27    1  36.080         0       1     37133.89820       30598.281026\n",
      "1307   32    0  28.120         4       1     21472.47880       31125.840424\n",
      "784    31    1  29.260         1       0      4350.51440        5787.764726\n",
      "1218   46    1  34.600         1       1     41661.60200       35576.858552\n",
      "1238   37    0  22.705         3       0      6985.50695        5966.314855\n",
      "1008   25    0  24.985         2       0     23241.47453        3077.603275\n",
      "558    35    1  34.105         3       1     39983.42595       33635.333713\n",
      "601    51    0  31.635         0       0      9174.13565       11000.802882\n",
      "234    39    0  24.510         2       0      6710.19190        6554.850097\n",
      "1248   18    1  39.820         0       0      1633.96180        5442.361298\n",
      "109    63    0  35.090         0       1     47055.53210       39372.152002\n",
      "1178   23    1  34.865         0       0      2899.48935        5064.166753\n",
      "719    58    1  33.440         0       0     12231.61360       13676.878890\n",
      "145    29    1  38.830         3       0      5138.25670        9592.466372\n",
      "112    37    0  30.800         0       0      4646.75900        7080.059461\n",
      "580    59    0  25.460         1       0     12913.99240       11531.429052\n",
      "245    54    0  30.020         0       0     24476.47851       11233.633011\n",
      "11     62    1  26.290         0       1     27808.72510       36379.047323\n",
      "375    23    1  28.310         0       1     18033.96790       26928.325905\n",
      "1053   47    0  29.800         3       1     25309.48900       35050.252756\n",
      "811    33    1  42.940         3       0      6360.99360       12023.339392\n",
      "1208   37    1  25.555         1       1     20296.86345       30175.950030\n",
      "1333   50    0  30.970         3       0     10600.54830       12142.601460\n",
      "735    49    1  34.770         1       0      9583.89330       12330.660234\n",
      "689    27    0  31.130         1       1     34806.46770       29218.767474\n",
      "1064   29    1  25.600         4       0      5708.86700        5655.753783\n",
      "1173   38    0  29.260         2       0      6457.84340        7903.087262\n",
      "1304   42    0  24.605         2       1     21259.37795       31449.930515\n",
      "278    59    0  31.790         2       0     12928.79110       14216.696214\n",
      "1108   26    0  30.000         1       0      2904.08800        4493.013268\n",
      "212    24    0  28.500         2       0      3537.70300        4007.734868\n",
      "373    26    0  32.900         2       1     36085.21900       30100.399026\n",
      "619    55    1  37.100         0       0     10713.64400       14136.377422\n",
      "1003   48    0  29.600         0       0     21232.18226        9532.276123\n",
      "870    50    0  36.200         0       0      8457.81800       12286.408848\n",
      "1195   19    1  27.930         3       0     18838.70366        3303.691934\n",
      "699    23    1  39.270         2       0      3500.61230        7639.995411\n",
      "613    34    1  19.000         3       0      6753.03800        4178.384874\n",
      "513    19    0  30.400         0       0      1256.29900        2267.139236\n",
      "668    62    0  32.015         0       1     45710.20785       38071.258719\n",
      "1145   52    0  32.775         3       0     11289.10925       13273.401214\n",
      "866    18    0  37.290         0       0      1141.44510        4339.867028\n",
      "904    60    1  35.100         0       0     12644.58900       14758.589327\n",
      "940    18    0  23.210         0       0      1121.87390        -426.875043\n",
      "1018   54    1  35.815         3       0     12495.29085       15068.276846\n",
      "886    57    0  28.975         0       1     27218.43725       35742.769823\n",
      "868    61    0  23.655         0       0     13129.60345       10897.809544\n",
      "358    23    0  41.910         0       0      1837.28190        7203.260218\n",
      "879    37    1  29.500         2       0      6311.95200        7970.447663\n",
      "233    59    0  27.500         1       0     12333.82800       12222.064977\n",
      "858    25    1  32.230         1       0     18218.16139        5234.082243\n",
      "39     60    0  39.900         0       1     48173.36100       40220.979609\n",
      "729    41    1  36.080         1       0      6781.35420       10695.267314\n",
      "521    32    1  44.220         0       0      3994.17780       10570.024853\n",
      "822    18    1  31.130         0       0      1621.88270        2500.387677\n",
      "463    56    0  25.935         0       0     11165.41765       10370.390805\n",
      "1203   51    0  32.300         1       0      9964.06000       11768.201164\n",
      "598    43    0  32.600         2       0      7441.50100       10333.140265\n",
      "518    35    1  31.000         1       0      5240.76500        7416.281304\n",
      "454    32    0  46.530         2       0      4686.38870       12190.627194\n",
      "142    34    0  25.300         2       1     18972.49500       29606.331177\n",
      "1198   40    0  29.355         1       0      6393.60345        7912.707096\n",
      "1286   28    1  17.290         0       0      3732.62510         413.508790\n",
      "334    43    1  35.720         2       0     19144.57652       11635.377279\n",
      "907    44    1  32.340         1       0      7633.72060       10208.685021\n",
      "1172   56    1  41.910         0       0     11093.62290       16024.649787\n",
      "420    64    0  33.880         0       1     46889.26120       39222.371295\n",
      "1294   58    0  25.175         0       0     11931.12525       10632.817448\n",
      "1081   32    0  27.835         1       0      4454.40265        5319.226104\n",
      "442    18    0  43.010         0       0      1149.39590        6276.355994\n",
      "223    19    0  34.800         0       1     34779.61500       27840.081014\n",
      "1261   28    0  37.100         1       0      3277.16100        7416.419504\n",
      "843    57    1  29.810         0       1     27533.91290       36271.426892\n",
      "1275   57    0  23.700         0       0     10959.33000        9873.599401\n",
      "411    44    1  20.235         1       1     19594.80965       30193.908201\n",
      "217    27    0  23.100         0       0      2483.73600        1874.635493\n",
      "731    53    0  21.400         1       0     10065.41300        8597.761003\n",
      "450    39    0  29.600         4       0      7512.26700        9362.583464\n",
      "305    29    0  33.345         2       0     19442.35350        6947.301139\n",
      "794    39    1  31.920         2       0      7209.49180        9309.453836\n",
      "1094   50    1  33.700         4       0     11299.34300       13855.069648\n",
      "544    54    0  30.210         0       0     10231.49990       11297.956945\n",
      "64     20    1  22.420         0       1     14711.74380       24154.700376\n",
      "431    29    1  20.235         2       0      4906.40965        2754.919985\n",
      "370    61    1  21.090         0       0     13415.03810       10275.406738\n",
      "646    39    0  26.220         1       0      6123.56880        6591.500992\n",
      "709    36    1  27.740         0       0      5469.00660        6030.214689\n",
      "121    18    0  23.750         0       0      1705.62450        -244.059651\n",
      "304    57    1  38.000         2       0     12646.20700       16045.321146\n",
      "660    37    0  46.530         3       0      6435.62370       14032.197655\n",
      "525    18    1  33.880         0       0     11482.63485        3431.391988\n",
      "706    51    1  38.060         0       1     44400.40640       37505.272685\n",
      "69     28    0  23.980         3       1     17663.14420       28142.546481\n",
      "267    59    1  32.395         3       0     14590.63205       15209.751980\n",
      "29     31    0  36.300         2       1     38711.00000       32550.764850\n",
      "139    22    1  36.000         0       0      2166.73200        5188.556434\n",
      "171    49    0  30.300         0       0      8116.68000       10029.120228\n",
      "298    31    0  34.390         3       1     38746.35510       32446.404550\n",
      "814    36    0  34.430         2       0      5584.30570        9133.652986\n",
      "188    41    1  32.200         1       0      6775.96100        9381.704869\n",
      "819    33    1  35.530         0       1     55135.40209       31971.247303\n",
      "1123   27    1  32.395         1       0     18903.49141        5809.664881\n",
      "68     40    1  36.190         0       0      5920.10410        9930.381784\n",
      "990    26    1  19.800         1       0      3378.91000        1285.803948\n",
      "366    56    1  32.300         3       0     13430.26500       14398.006443\n",
      "1087   57    0  31.540         0       0     11353.22760       12527.808054\n",
      "222    32    0  30.800         3       0      5253.52400        7407.547050\n",
      "440    31    1  32.680         1       0      4738.26820        6945.595541\n",
      "492    18    1  25.080         0       0      2196.47320         452.178194\n",
      "225    55    0  33.880         3       0     11987.16820       14427.079243\n",
      "1292   21    0  23.210         0       0      1515.34490         352.708527\n",
      "1170   18    0  27.360         1       1     17178.68240       25603.694493\n",
      "27     55    1  32.775         2       0     12268.63225       13756.690576\n",
      "354    18    1  38.280         0       0     14133.03775        4920.998885\n",
      "318    44    1  27.645         0       0      7421.19455        8076.942240\n",
      "842    23    1  32.780         2       1     36021.01120       29526.160119\n",
      "872    42    0  24.860         0       0      5966.88740        6368.396099\n",
      "126    19    1  28.300         0       1     17081.08000       25885.495676\n",
      "1247   33    0  29.400         4       0      6059.17300        7735.706921\n",
      "1036   22    0  37.070         2       1     37484.44930       30472.695348\n",
      "1105   54    1  31.240         0       0     10338.93160       11892.630683\n",
      "174    24    1  33.345         0       0      2855.43755        4809.436470\n",
      "131    61    1  22.040         0       0     13616.35860       10597.026409\n",
      "244    63    1  27.740         0       1     29523.16560       37129.801695\n",
      "359    18    1  20.790         0       0      1607.51010       -1000.188531\n",
      "702    53    0  41.470         0       0      9504.31030       14850.135223\n",
      "980    54    0  25.460         1       0     25517.11363       10232.123103\n",
      "795    27    0  28.500         0       1     18310.74200       27786.124294\n",
      "779    53    0  28.880         0       0      9869.81020       10587.828216\n",
      "1207   36    0  33.400         2       1     38415.47400       32868.284435\n",
      "1061   57    0  27.940         1       0     11554.22360       11851.303287\n",
      "957    24    0  26.790         1       0     12609.88702        2886.554948\n",
      "1228   56    0  34.430         0       0     10594.22570       13246.347757\n",
      "1239   25    1  42.130         1       0      3238.43570        8585.697761\n",
      "1051   64    0  26.410         0       0     14394.55790       12610.090159\n",
      "882    21    1  22.135         0       0      2585.85065         234.740783\n",
      "930    26    0  46.530         1       0      2927.06470       10089.195542\n",
      "1125   63    1  25.080         0       0     14254.60820       12145.931735\n",
      "725    30    1  39.050         3       1     40932.42950       34010.142788\n",
      "191    36    1  26.200         0       0      4883.86600        5508.852275\n",
      "996    39    1  34.100         3       0      7418.52200       10589.750856\n",
      "1144   50    0  32.300         2       0      9630.39700       12050.604487\n",
      "60     43    0  27.360         3       0      8606.21740        9101.418382\n",
      "104    34    1  27.500         1       0      5003.85300        5971.505537\n",
      "821    26    0  17.670         0       0      2680.94930        -223.536026\n",
      "941    50    1  46.090         1       0      9549.56510       16422.873713\n",
      "555    28    0  23.800         2       0      3847.67400        3456.008624\n",
      "301    53    1  22.610         3       1     24873.38490       34421.237112\n",
      "1197   41    0  33.550         0       0      5699.83750        9050.508531\n",
      "271    50    0  34.200         2       1     42856.83800       36777.178710\n",
      "695    26    1  40.185         0       0      3201.24515        7644.820480\n",
      "1039   19    0  27.265         2       0     22493.65964        2290.323347\n",
      "323    57    0  40.945         0       0     11566.30055       15711.842796\n",
      "835    42    0  35.970         2       0      7160.33030       11214.182539\n"
     ]
    }
   ],
   "source": [
    "new_df1=pd.DataFrame()\n",
    "new_df1=X_test\n",
    "\n",
    "new_df1[\"Actual Charges\"]=Y_test\n",
    "new_df1[\"Predicted Charges\"]=Y_pred\n",
    "print(new_df1)"
   ]
  },
  {
   "cell_type": "code",
   "execution_count": 47,
   "metadata": {},
   "outputs": [
    {
     "name": "stdout",
     "output_type": "stream",
     "text": [
      "0.6930233517708537\n",
      "6561.53100381473\n",
      "0.6918710370252488\n"
     ]
    }
   ],
   "source": [
    "from sklearn.metrics import r2_score,mean_squared_error\n",
    "import numpy as np\n",
    "r2=r2_score(Y_test,Y_pred)\n",
    "print(r2)\n",
    "rmse=np.sqrt(mean_squared_error(Y_test,Y_pred))\n",
    "print(rmse)\n",
    "adjusted_r_squared = 1 - (1-r2)*(len(Y)-1)/(len(Y)-X.shape[1]-1)\n",
    "print(adjusted_r_squared)"
   ]
  },
  {
   "cell_type": "code",
   "execution_count": 48,
   "metadata": {},
   "outputs": [
    {
     "name": "stdout",
     "output_type": "stream",
     "text": [
      "1121.8739\n",
      "62592.87309\n"
     ]
    }
   ],
   "source": [
    "##Comparing the error with range of y  \n",
    "##\n",
    "print(min(Y_test))\n",
    "print(max(Y_test))"
   ]
  },
  {
   "cell_type": "code",
   "execution_count": 49,
   "metadata": {},
   "outputs": [
    {
     "data": {
      "text/plain": [
       "'RMSE value is close to my mininum values, so its fine'"
      ]
     },
     "execution_count": 49,
     "metadata": {},
     "output_type": "execute_result"
    }
   ],
   "source": [
    "'''RMSE value is close to my mininum values, so its fine'''"
   ]
  },
  {
   "cell_type": "markdown",
   "metadata": {},
   "source": [
    "# Regularization-Ridge Regression"
   ]
  },
  {
   "cell_type": "code",
   "execution_count": 50,
   "metadata": {},
   "outputs": [],
   "source": [
    "X=df[[\"age\",\"sex\",\"bmi\",\"children\",\"smoker\",\"region\"]]\n",
    "Y=df[\"charges\"]\n",
    "\n",
    "#Splitting the data using sklearn\n",
    "from sklearn.model_selection import train_test_split\n",
    "#splitting the data into train & test\n",
    "X_train, X_test, Y_train, Y_test=train_test_split(X,Y, test_size=0.2, random_state=10)"
   ]
  },
  {
   "cell_type": "code",
   "execution_count": 51,
   "metadata": {},
   "outputs": [
    {
     "name": "stdout",
     "output_type": "stream",
     "text": [
      "-13809.085970540948\n",
      "[  259.52517468   242.86025816   352.49810697   543.0634198\n",
      " 23983.39817414   307.94381183]\n"
     ]
    },
    {
     "data": {
      "text/plain": [
       "'-13852.855289383382\\n[  259.58768613   253.19052641   352.58760017   544.10213435\\n 24123.55372986   310.61294595]\\n'"
      ]
     },
     "execution_count": 51,
     "metadata": {},
     "output_type": "execute_result"
    }
   ],
   "source": [
    "##Tunning with ridge l2\n",
    "##Lowers the beta paarameter of insignificat variables and reduces its impact\n",
    "from sklearn.linear_model import Ridge\n",
    "lm = Ridge()  #over writting lm \n",
    "lm.fit(X_train,Y_train)\n",
    "# print intercept and coefficients\n",
    "print (lm.intercept_)\n",
    "print (lm.coef_)\n",
    "\n",
    "'''-13852.855289383382\n",
    "[  259.58768613   253.19052641   352.58760017   544.10213435\n",
    " 24123.55372986   310.61294595]\n",
    "'''"
   ]
  },
  {
   "cell_type": "code",
   "execution_count": 52,
   "metadata": {},
   "outputs": [
    {
     "name": "stdout",
     "output_type": "stream",
     "text": [
      "0.6957124160670165\n",
      "6532.728830292117\n",
      "0.6943407214737799\n"
     ]
    },
    {
     "data": {
      "text/plain": [
       "'0.6953067620943834\\n6537.0818583559\\n0.6939332388581447'"
      ]
     },
     "execution_count": 52,
     "metadata": {},
     "output_type": "execute_result"
    }
   ],
   "source": [
    " ##Predicted values for ridge\n",
    "Y_pred_new=lm.predict(X_test)\n",
    "from sklearn.metrics import r2_score,mean_squared_error\n",
    "import numpy as np\n",
    "r2=r2_score(Y_test,Y_pred_new)\n",
    "print(r2)\n",
    "rmse=np.sqrt(mean_squared_error(Y_test,Y_pred_new))\n",
    "print(rmse)\n",
    "adjusted_r_squared = 1 - (1-r2)*(len(Y)-1)/(len(Y)-X.shape[1]-1)\n",
    "print(adjusted_r_squared)\n",
    "\n",
    "'''0.6953067620943834\n",
    "6537.0818583559\n",
    "0.6939332388581447'''"
   ]
  },
  {
   "cell_type": "markdown",
   "metadata": {},
   "source": [
    "# Regularization-Lasso Regression"
   ]
  },
  {
   "cell_type": "code",
   "execution_count": 53,
   "metadata": {},
   "outputs": [
    {
     "name": "stdout",
     "output_type": "stream",
     "text": [
      "-13844.348035629684\n",
      "[  259.59341405   248.65723485   352.49483807   543.37034354\n",
      " 24116.74374922   309.61340878]\n"
     ]
    },
    {
     "data": {
      "text/plain": [
       "'-13852.855289383382\\n[  259.58768613   253.19052641   352.58760017   544.10213435\\n 24123.55372986   310.61294595]\\n'"
      ]
     },
     "execution_count": 53,
     "metadata": {},
     "output_type": "execute_result"
    }
   ],
   "source": [
    "##Tunning with Lasso\n",
    "##Correctly identifies the insignificant value\n",
    "from sklearn.linear_model import Lasso\n",
    "lm = Lasso()  #over writting lm \n",
    "lm.fit(X_train,Y_train)\n",
    "# print intercept and coefficients\n",
    "print (lm.intercept_)\n",
    "print (lm.coef_)\n",
    "\n",
    "'''-13852.855289383382\n",
    "[  259.58768613   253.19052641   352.58760017   544.10213435\n",
    " 24123.55372986   310.61294595]\n",
    "'''"
   ]
  },
  {
   "cell_type": "code",
   "execution_count": 54,
   "metadata": {},
   "outputs": [
    {
     "name": "stdout",
     "output_type": "stream",
     "text": [
      "0.6953364751615048\n",
      "6536.763109096817\n",
      "0.6939630858684687\n"
     ]
    },
    {
     "data": {
      "text/plain": [
       "'0.6953067620943834\\n6537.0818583559\\n0.6939332388581447'"
      ]
     },
     "execution_count": 54,
     "metadata": {},
     "output_type": "execute_result"
    }
   ],
   "source": [
    "##Predicted values for Lasso\n",
    "Y_pred_new=lm.predict(X_test)\n",
    "from sklearn.metrics import r2_score,mean_squared_error\n",
    "import numpy as np\n",
    "r2=r2_score(Y_test,Y_pred_new)\n",
    "print(r2)\n",
    "rmse=np.sqrt(mean_squared_error(Y_test,Y_pred_new))\n",
    "print(rmse)\n",
    "adjusted_r_squared = 1 - (1-r2)*(len(Y)-1)/(len(Y)-X.shape[1]-1)\n",
    "print(adjusted_r_squared)\n",
    "\n",
    "'''0.6953067620943834\n",
    "6537.0818583559\n",
    "0.6939332388581447'''"
   ]
  },
  {
   "cell_type": "code",
   "execution_count": 55,
   "metadata": {},
   "outputs": [
    {
     "data": {
      "text/plain": [
       "(1070, 7)"
      ]
     },
     "execution_count": 55,
     "metadata": {},
     "output_type": "execute_result"
    }
   ],
   "source": [
    "new_df=pd.DataFrame()\n",
    "new_df=X_train\n",
    "\n",
    "new_df[\"charges\"]=Y_train\n",
    "new_df.shape"
   ]
  },
  {
   "cell_type": "markdown",
   "metadata": {},
   "source": [
    "# STATS MODEL-ORDINARY LEAST SQUARE"
   ]
  },
  {
   "cell_type": "code",
   "execution_count": 56,
   "metadata": {},
   "outputs": [
    {
     "name": "stdout",
     "output_type": "stream",
     "text": [
      "Intercept   -13852.855289\n",
      "age            259.587686\n",
      "sex            253.190526\n",
      "bmi            352.587600\n",
      "children       544.102134\n",
      "smoker       24123.553730\n",
      "region         310.612946\n",
      "dtype: float64\n",
      "                            OLS Regression Results                            \n",
      "==============================================================================\n",
      "Dep. Variable:                charges   R-squared:                       0.764\n",
      "Model:                            OLS   Adj. R-squared:                  0.762\n",
      "Method:                 Least Squares   F-statistic:                     572.4\n",
      "Date:                Fri, 12 Jun 2020   Prob (F-statistic):               0.00\n",
      "Time:                        11:58:33   Log-Likelihood:                -10812.\n",
      "No. Observations:                1070   AIC:                         2.164e+04\n",
      "Df Residuals:                    1063   BIC:                         2.167e+04\n",
      "Df Model:                           6                                         \n",
      "Covariance Type:            nonrobust                                         \n",
      "==============================================================================\n",
      "                 coef    std err          t      P>|t|      [0.025      0.975]\n",
      "------------------------------------------------------------------------------\n",
      "Intercept  -1.385e+04   1141.931    -12.131      0.000   -1.61e+04   -1.16e+04\n",
      "age          259.5877     12.999     19.969      0.000     234.080     285.095\n",
      "sex          253.1905    365.604      0.693      0.489    -464.198     970.579\n",
      "bmi          352.5876     30.826     11.438      0.000     292.101     413.074\n",
      "children     544.1021    150.494      3.615      0.000     248.802     839.402\n",
      "smoker      2.412e+04    453.525     53.191      0.000    2.32e+04     2.5e+04\n",
      "region       310.6129    165.390      1.878      0.061     -13.916     635.142\n",
      "==============================================================================\n",
      "Omnibus:                      228.608   Durbin-Watson:                   2.066\n",
      "Prob(Omnibus):                  0.000   Jarque-Bera (JB):              540.120\n",
      "Skew:                           1.150   Prob(JB):                    5.18e-118\n",
      "Kurtosis:                       5.613   Cond. No.                         325.\n",
      "==============================================================================\n",
      "\n",
      "Warnings:\n",
      "[1] Standard Errors assume that the covariance matrix of the errors is correctly specified.\n"
     ]
    }
   ],
   "source": [
    "#POST MB ASSUMPTION 1-->No Auto-correlation\n",
    "\n",
    "import statsmodels.formula.api as sm\n",
    "\n",
    "\n",
    "##default statsmodel has OLS\n",
    "#Creating a fitted model with all three features\n",
    "lm_model=sm.ols(formula=\"charges~age+sex+bmi+children+smoker+region\",data=new_df).fit()\n",
    "##ols gives all statistical outputs\n",
    "\n",
    "\n",
    "#print the coeeficients\n",
    "print(lm_model.params)\n",
    "print(lm_model.summary())"
   ]
  },
  {
   "cell_type": "code",
   "execution_count": 57,
   "metadata": {},
   "outputs": [
    {
     "name": "stdout",
     "output_type": "stream",
     "text": [
      "Intercept   -12805.185619\n",
      "age            260.299338\n",
      "bmi            337.026914\n",
      "children       541.489449\n",
      "smoker       24058.099433\n",
      "dtype: float64\n",
      "                            OLS Regression Results                            \n",
      "==============================================================================\n",
      "Dep. Variable:                charges   R-squared:                       0.763\n",
      "Model:                            OLS   Adj. R-squared:                  0.762\n",
      "Method:                 Least Squares   F-statistic:                     856.0\n",
      "Date:                Fri, 12 Jun 2020   Prob (F-statistic):               0.00\n",
      "Time:                        11:58:33   Log-Likelihood:                -10814.\n",
      "No. Observations:                1070   AIC:                         2.164e+04\n",
      "Df Residuals:                    1065   BIC:                         2.166e+04\n",
      "Df Model:                           4                                         \n",
      "Covariance Type:            nonrobust                                         \n",
      "==============================================================================\n",
      "                 coef    std err          t      P>|t|      [0.025      0.975]\n",
      "------------------------------------------------------------------------------\n",
      "Intercept  -1.281e+04   1013.198    -12.638      0.000   -1.48e+04   -1.08e+04\n",
      "age          260.2993     12.994     20.032      0.000     234.802     285.797\n",
      "bmi          337.0269     29.848     11.292      0.000     278.460     395.594\n",
      "children     541.4894    150.627      3.595      0.000     245.931     837.048\n",
      "smoker      2.406e+04    451.884     53.240      0.000    2.32e+04    2.49e+04\n",
      "==============================================================================\n",
      "Omnibus:                      228.665   Durbin-Watson:                   2.047\n",
      "Prob(Omnibus):                  0.000   Jarque-Bera (JB):              542.045\n",
      "Skew:                           1.148   Prob(JB):                    1.98e-118\n",
      "Kurtosis:                       5.623   Cond. No.                         286.\n",
      "==============================================================================\n",
      "\n",
      "Warnings:\n",
      "[1] Standard Errors assume that the covariance matrix of the errors is correctly specified.\n"
     ]
    }
   ],
   "source": [
    "#Removing the sex & region variable since its pvalue is >0.05\n",
    "import statsmodels.formula.api as sm\n",
    "\n",
    "\n",
    "##default statsmodel has OLS\n",
    "#Creating a fitted model with all three features\n",
    "lm_model=sm.ols(formula=\"charges~age+bmi+children+smoker\",data=new_df).fit()\n",
    "##ols gives all statistical outputs\n",
    "\n",
    "\n",
    "#print the coeeficients\n",
    "print(lm_model.params)\n",
    "print(lm_model.summary())"
   ]
  },
  {
   "cell_type": "code",
   "execution_count": 58,
   "metadata": {},
   "outputs": [
    {
     "data": {
      "text/plain": [
       "'Even after excluding those variables, it makes no difference to the r2.\\nSo we can conclude that these variable were insignificant but were not really causing problem to the dataset.'"
      ]
     },
     "execution_count": 58,
     "metadata": {},
     "output_type": "execute_result"
    }
   ],
   "source": [
    "'''Even after excluding those variables, it makes no difference to the r2.\n",
    "So we can conclude that these variable were insignificant but were not really causing problem to the dataset.'''"
   ]
  },
  {
   "cell_type": "code",
   "execution_count": 59,
   "metadata": {},
   "outputs": [
    {
     "data": {
      "text/plain": [
       "Text(0, 0.5, 'Residuals')"
      ]
     },
     "execution_count": 59,
     "metadata": {},
     "output_type": "execute_result"
    },
    {
     "data": {
      "image/png": "[encoded data removed]",
      "text/plain": [
       "<Figure size 864x576 with 1 Axes>"
      ]
     },
     "metadata": {
      "needs_background": "light"
     },
     "output_type": "display_data"
    }
   ],
   "source": [
    "#POST MB ASSUMPTION-->\n",
    "#Diagonostic \n",
    "##Errors should be random can be checked residual versus fitted plot\n",
    "\n",
    "plot_lm_1 = plt.figure(1)\n",
    "plot_lm_1.set_figheight(8)\n",
    "plot_lm_1.set_figwidth(12)\n",
    "# fitted values (need a constant term for intercept)\n",
    "model_fitted_y = lm_model.fittedvalues\n",
    "plot_lm_1.axes[0] = sns.residplot(model_fitted_y, 'charges', data=new_df, lowess=True)\n",
    "plot_lm_1.axes[0].set_title('Residuals vs Fitted')\n",
    "plot_lm_1.axes[0].set_xlabel('Fitted values')\n",
    "plot_lm_1.axes[0].set_ylabel('Residuals')\n"
   ]
  },
  {
   "cell_type": "code",
   "execution_count": 60,
   "metadata": {},
   "outputs": [
    {
     "data": {
      "image/png": "[encoded data removed]",
      "text/plain": [
       "<Figure size 432x288 with 1 Axes>"
      ]
     },
     "metadata": {
      "needs_background": "light"
     },
     "output_type": "display_data"
    }
   ],
   "source": [
    "res = lm_model.resid\n",
    "import statsmodels.api as stm\n",
    "import scipy.stats as stats\n",
    "fig = stm.qqplot(res, fit=True, line='45')\n",
    "plt.title('Normal Q-Q')\n",
    "plt.xlabel('Theoretical Quantiles')\n",
    "plt.ylabel('Standardized Residuals')\n",
    "plt.show()\n",
    "\n",
    "##Errors should follow an approximate normal distribution\n",
    "##Can be checked using a normal quantile quantile plot\n",
    "##Blue line should lie "
   ]
  },
  {
   "cell_type": "code",
   "execution_count": 61,
   "metadata": {},
   "outputs": [
    {
     "data": {
      "text/plain": [
       "Text(0, 0.5, '$\\\\sqrt{|Standardized Residuals|}$')"
      ]
     },
     "execution_count": 61,
     "metadata": {},
     "output_type": "execute_result"
    },
    {
     "data": {
      "image/png": "[encoded data removed]",
      "text/plain": [
       "<Figure size 864x576 with 1 Axes>"
      ]
     },
     "metadata": {
      "needs_background": "light"
     },
     "output_type": "display_data"
    }
   ],
   "source": [
    "# normalized residuals\n",
    "model_norm_residuals = lm_model.get_influence().resid_studentized_internal\n",
    "# absolute squared normalized residuals\n",
    "model_norm_residuals_abs_sqrt = np.sqrt(np.abs(model_norm_residuals))\n",
    "plot_lm_3 = plt.figure(3)\n",
    "plot_lm_3.set_figheight(8)\n",
    "plot_lm_3.set_figwidth(12)\n",
    "plt.scatter(model_fitted_y, model_norm_residuals_abs_sqrt, alpha=0.5)\n",
    "sns.regplot(model_fitted_y, model_norm_residuals_abs_sqrt, lowess=True)\n",
    "\n",
    "plot_lm_3.axes[0].set_title('Scale-Location')\n",
    "plot_lm_3.axes[0].set_xlabel('Fitted values')\n",
    "plot_lm_3.axes[0].set_ylabel('$\\sqrt{|Standardized Residuals|}$')\n",
    "\n",
    "\n",
    "##Error should follow a constant variances\n",
    "##values folow constants variance is called homoskedasticity\n",
    "##values donot folow constants variance is called hetroskedasticity\n",
    "##Can be checked using scale-location plot\n",
    "##Variance should not follow steep structure(v-structure, this hetreskedasticity)\n",
    "##Variance should be constant"
   ]
  },
  {
   "cell_type": "markdown",
   "metadata": {},
   "source": [
    "# STOCHASTIC GRADIENT DESCENT REGRESSOR"
   ]
  },
  {
   "cell_type": "code",
   "execution_count": 62,
   "metadata": {},
   "outputs": [
    {
     "name": "stdout",
     "output_type": "stream",
     "text": [
      "[[-1.43876426  1.0105187  -0.45332    -0.90861367  1.97058663 -0.40287427]\n",
      " [-1.50996545 -0.98959079  0.5096211  -0.07876719 -0.5074631  -1.28800691]\n",
      " [-0.79795355 -0.98959079  0.38330685  1.58092576 -0.5074631  -1.28800691]\n",
      " ...\n",
      " [-1.50996545  1.0105187   1.0148781  -0.90861367 -0.5074631  -1.28800691]\n",
      " [-1.29636188  1.0105187  -0.79781341 -0.90861367 -0.5074631  -0.40287427]\n",
      " [ 1.55168573  1.0105187  -0.26138796 -0.90861367  1.97058663  0.48225837]]\n"
     ]
    }
   ],
   "source": [
    "#Scaling is performed only on X since it has multiple vars, whereas Y has only 1 var\n",
    "from sklearn.preprocessing import StandardScaler\n",
    "scaler=StandardScaler()\n",
    "X=scaler.fit_transform(X)\n",
    "#scaler.fit(X)\n",
    "#X=scaler.transform(X)\n",
    "print(X)"
   ]
  },
  {
   "cell_type": "code",
   "execution_count": 63,
   "metadata": {},
   "outputs": [],
   "source": [
    "#Splitting the data\n",
    "from sklearn.model_selection import train_test_split\n",
    "X_train, X_test, Y_train, Y_test = train_test_split(X, Y, test_size=0.2, random_state=10)"
   ]
  },
  {
   "cell_type": "code",
   "execution_count": 64,
   "metadata": {},
   "outputs": [
    {
     "name": "stdout",
     "output_type": "stream",
     "text": [
      "[13243.94814919]\n",
      "[3644.64755793  123.91104974 2146.87529682  655.82265304 9730.24463563\n",
      "  346.7145711 ]\n"
     ]
    }
   ],
   "source": [
    "#Model Building\n",
    "from sklearn.linear_model import SGDRegressor\n",
    "\n",
    "#1.creating a model object\n",
    "lm=SGDRegressor(learning_rate=\"constant\", eta0=0.0001, random_state=10, max_iter=4677)\n",
    "#learning_rate=\"optimal\"-->decides eta0 on its own or alpha\n",
    "#max_iter-->is a trial & error baesd on the no of epochs you wanna perform\n",
    "\n",
    "#2.training the model\n",
    "lm.fit(X_train, Y_train)\n",
    "\n",
    "#3.predicting--->print the intercepts & coefficients\n",
    "print(lm.intercept_)\n",
    "print(lm.coef_)\n",
    "\n"
   ]
  },
  {
   "cell_type": "code",
   "execution_count": 65,
   "metadata": {},
   "outputs": [
    {
     "name": "stdout",
     "output_type": "stream",
     "text": [
      "0.6953344423411398\n",
      "6536.784916832105\n",
      "0.6939610438843756\n"
     ]
    }
   ],
   "source": [
    "Y_pred_new=lm.predict(X_test)\n",
    "from sklearn.metrics import r2_score,mean_squared_error\n",
    "import numpy as np\n",
    "r2=r2_score(Y_test,Y_pred_new)\n",
    "print(r2)\n",
    "rmse=np.sqrt(mean_squared_error(Y_test,Y_pred_new))\n",
    "print(rmse)\n",
    "adjusted_r_squared = 1 - (1-r2)*(len(Y)-1)/(len(Y)-X.shape[1]-1)\n",
    "print(adjusted_r_squared)"
   ]
  },
  {
   "cell_type": "markdown",
   "metadata": {},
   "source": [
    "# DECISION TREE REGRESSOR"
   ]
  },
  {
   "cell_type": "code",
   "execution_count": 66,
   "metadata": {},
   "outputs": [],
   "source": [
    "from sklearn.tree import DecisionTreeRegressor\n",
    "#Create the model object\n",
    "model_DT=DecisionTreeRegressor(max_depth=20,random_state=10,max_leaf_nodes=50)\n",
    "#Train the model\n",
    "model_DT.fit(X_train,Y_train)\n",
    "#Prediction\n",
    "Y_pred=model_DT.predict(X_test)"
   ]
  },
  {
   "cell_type": "code",
   "execution_count": 67,
   "metadata": {},
   "outputs": [
    {
     "name": "stdout",
     "output_type": "stream",
     "text": [
      "0.7717171431751653\n",
      "5658.341626236289\n",
      "0.7706880694404177\n"
     ]
    }
   ],
   "source": [
    "from sklearn.metrics import r2_score,mean_squared_error\n",
    "import numpy as np\n",
    "\n",
    "r2=r2_score(Y_test,Y_pred)\n",
    "print(r2)\n",
    "\n",
    "rmse=np.sqrt(mean_squared_error(Y_test,Y_pred))\n",
    "print(rmse)\n",
    "\n",
    "adjusted_r_squared = 1 - (1-r2)*(len(Y)-1)/(len(Y)-X.shape[1]-1)\n",
    "print(adjusted_r_squared)"
   ]
  },
  {
   "cell_type": "markdown",
   "metadata": {},
   "source": [
    "# RANDOM FOREST REGRESSOR"
   ]
  },
  {
   "cell_type": "code",
   "execution_count": 68,
   "metadata": {},
   "outputs": [],
   "source": [
    "from sklearn.ensemble import RandomForestRegressor\n",
    " \n",
    "#create the model object\n",
    "model_RandomForest=RandomForestRegressor(n_estimators=50,random_state=10)\n",
    "#fit the model on the data and predict the values\n",
    "model_RandomForest.fit(X_train,Y_train)\n",
    "#predict \n",
    "Y_pred=model_RandomForest.predict(X_test)"
   ]
  },
  {
   "cell_type": "code",
   "execution_count": 69,
   "metadata": {},
   "outputs": [
    {
     "name": "stdout",
     "output_type": "stream",
     "text": [
      "0.8000758092373996\n",
      "5295.234391041696\n",
      "0.7991745732159303\n"
     ]
    }
   ],
   "source": [
    "from sklearn.metrics import r2_score,mean_squared_error\n",
    "import numpy as np\n",
    "\n",
    "r2=r2_score(Y_test,Y_pred)\n",
    "print(r2)\n",
    "\n",
    "rmse=np.sqrt(mean_squared_error(Y_test,Y_pred))\n",
    "print(rmse)\n",
    "\n",
    "adjusted_r_squared = 1 - (1-r2)*(len(Y)-1)/(len(Y)-X.shape[1]-1)\n",
    "print(adjusted_r_squared)"
   ]
  },
  {
   "cell_type": "markdown",
   "metadata": {},
   "source": [
    "# EXTRA TREES REGRESSOR"
   ]
  },
  {
   "cell_type": "code",
   "execution_count": 70,
   "metadata": {},
   "outputs": [
    {
     "name": "stdout",
     "output_type": "stream",
     "text": [
      "[ 7095.9231575  5254.8904505 20790.147948  13328.6108058  3667.903534\n",
      "  9915.3773678 10485.907169  20277.3412041  8464.7972517 19301.1910587\n",
      "  4191.3618951  3388.2666075 10136.0753592  8973.4432968 11173.2040494\n",
      " 21579.4803695  3314.1668385 17597.7840161 11351.8743177 21826.0216421\n",
      " 38803.289189   2120.869079   2180.524349   6454.370109   8468.4013665\n",
      " 13739.9852847  8983.37891   12366.423443   6634.3070627 24954.0154599\n",
      "  1253.632406  41030.8737955  8707.0049041 13434.4124825 14086.1377244\n",
      "  6045.6513468 13527.1328667 10214.9543557  9927.6245296  9660.7800294\n",
      " 13861.7618785 14265.2806971  5264.6072    13624.0944016  1637.40154\n",
      "  7061.853842   8578.0633195 37203.0184574 15496.1721913 11621.7868722\n",
      " 46036.9380279  3234.8061225  7497.1007285 15632.8401344  9664.0266852\n",
      " 12899.5139691 16751.9323498  7114.0907801  6599.0372085 41191.1218532\n",
      "  1707.528297  23682.136912  29121.98649    3965.307985  18275.997026\n",
      "  7783.5308539  4592.5389566  7146.525134   9653.3972671  8702.592071\n",
      " 10281.5230823  1731.049605   8892.828066   7461.9832993  8568.8764947\n",
      " 13578.9630514  5040.386678   6575.9047995  1613.889679  10794.3435373\n",
      " 10761.3852135  9366.374046  19255.660361   7166.9790983 23649.5944\n",
      "  3427.12685    2466.1634613  2288.5022136  6426.5042075 10329.414137\n",
      " 31963.0245387 37395.5018325  9235.1455495 46352.1292377 13581.3028303\n",
      "  4607.9441945  6737.8256924  9873.510594   5173.1272913 14053.8487359\n",
      "  6703.6940655  2203.47185    8698.3881777  5930.6688513 10441.2399375\n",
      " 15021.0937245 22976.7305273 33800.788354  22369.766968   5020.2632818\n",
      "  9642.124486   8722.7045421  5469.8505618 21068.935079  39396.8515544\n",
      " 21709.9547059  4722.7561933 42144.9924417  7806.1356433  4068.2066996\n",
      " 40216.7519373  9039.942905   6603.324156   1633.87006   47118.5539724\n",
      "  4207.9096313 12221.053624   5670.1302338 18642.2845935 15320.4504295\n",
      " 10165.044376  28522.38701   19797.5584997 30051.9176239  6993.8029437\n",
      " 20352.332736  13587.6302635 12840.3046147 34987.7463699  8615.0560055\n",
      "  6510.6701878 23856.3808069 14496.9478614  3212.1073446  4358.4997559\n",
      " 36609.0584583 14047.8835438 11011.2177434  9272.1254188 12040.6022071\n",
      "  4728.3570165  9443.3745329  7349.6972472 46049.5182989 14411.6047224\n",
      "  1640.085926  13735.2301996  1197.471855  16507.1385125 28724.58844\n",
      " 16023.3949802  2162.7118496  8629.802213  14137.7625945  3321.040695\n",
      " 48678.1628971  7367.9901946  4716.5636293  1621.86741   11247.4551956\n",
      " 10502.0831492 10577.5401545  5316.0156337  5187.1251506 19405.773042\n",
      "  6710.9155949  6073.3574588 12700.1896223  7603.924876  14111.0581062\n",
      " 47020.188636  12962.3071836  4780.3893408  1639.22105   34882.10486\n",
      "  6601.5826279 32239.463984  10987.325263  20541.4940771  3591.0896787\n",
      " 10195.4704085 10918.4598206  4853.4425199  7378.1976049 11085.8802149\n",
      " 10164.6966525 17921.1535045  4897.505185  14703.1160443  6132.5040635\n",
      "  5421.9341505  1705.841062  15953.9084004  9648.8927913  1620.624075\n",
      " 47296.5362534 18939.1179388 14998.6514824 43459.3656969  2424.0203909\n",
      " 10152.0884265 40384.8266197  7673.9105986  6863.4452184 39913.0695332\n",
      " 14519.6676422  8097.7942009  3480.5392813 15503.7110713 11275.294963\n",
      "  5032.409325   4578.4634945  2167.262055  16857.4188451  9060.7663437\n",
      " 19949.9104353 12200.457943   1631.8212     9560.4964684 35788.5088018\n",
      "  5936.812901  17318.4445     8279.3280538 38064.0858831 13574.13667\n",
      "  3188.8300037 13860.9215844 28249.8041025  1729.8910368  9873.8375124\n",
      " 10920.231501  23123.2134714  9875.127298  38933.0067282 12823.5607608\n",
      "  3072.9313118 14170.7917845  4650.0978667 17384.9838958  2487.972546\n",
      "  4446.4613774 15546.8346838 43787.7589908  5147.629034   8461.9951611\n",
      " 13885.1647172 12063.8665445  5575.5653711  8883.4109442 11155.912878\n",
      "  4785.5706399 23642.3274301  6031.5664758 44461.7465208  6553.1447584\n",
      "  5229.3506979 20487.5911068  7935.0560919]\n"
     ]
    }
   ],
   "source": [
    "from sklearn.ensemble import ExtraTreesRegressor\n",
    "#create a model object \n",
    "model=ExtraTreesRegressor(100,random_state=10)\n",
    "#fit the model on the data and predict the values\n",
    "model=model.fit(X_train,Y_train)\n",
    "#predict\n",
    "Y_pred=model.predict(X_test)\n",
    "print(Y_pred)"
   ]
  },
  {
   "cell_type": "code",
   "execution_count": 71,
   "metadata": {},
   "outputs": [
    {
     "name": "stdout",
     "output_type": "stream",
     "text": [
      "0.8126445386819178\n",
      "5126.083707994088\n",
      "0.8117999610952097\n"
     ]
    }
   ],
   "source": [
    "from sklearn.metrics import r2_score,mean_squared_error\n",
    "import numpy as np\n",
    "\n",
    "r2=r2_score(Y_test,Y_pred)\n",
    "print(r2)\n",
    "\n",
    "rmse=np.sqrt(mean_squared_error(Y_test,Y_pred))\n",
    "print(rmse)\n",
    "\n",
    "adjusted_r_squared = 1 - (1-r2)*(len(Y)-1)/(len(Y)-X.shape[1]-1)\n",
    "print(adjusted_r_squared)"
   ]
  },
  {
   "cell_type": "code",
   "execution_count": 72,
   "metadata": {},
   "outputs": [
    {
     "data": {
      "text/plain": [
       "'\\nLinear Regression-->Rsq-->0.69\\nRegularization-->Rigde-->Rsq-->0.69\\nRegularization-->Lasso-->Rsq-->0.69\\nOrdinary Least Sq-->Rsq-->0.76\\nStochastic Gradient Descent-->Rsq-->0.69\\nDecision Tree-->Rsq-->0.77\\nRandom Forest-->Rsq-->0.80\\nExtra Trees-->Rsq-->0.81\\n'"
      ]
     },
     "execution_count": 72,
     "metadata": {},
     "output_type": "execute_result"
    }
   ],
   "source": [
    "'''\n",
    "Linear Regression-->Rsq-->0.69\n",
    "Regularization-->Rigde-->Rsq-->0.69\n",
    "Regularization-->Lasso-->Rsq-->0.69\n",
    "Ordinary Least Sq-->Rsq-->0.76\n",
    "Stochastic Gradient Descent-->Rsq-->0.69\n",
    "Decision Tree-->Rsq-->0.77\n",
    "Random Forest-->Rsq-->0.80\n",
    "Extra Trees-->Rsq-->0.81\n",
    "'''\n"
   ]
  },
  {
   "cell_type": "markdown",
   "metadata": {},
   "source": [
    "# We conclude that Extra tress regressor gives the best Rsquare value of 0.81"
   ]
  },
  {
   "cell_type": "code",
   "execution_count": null,
   "metadata": {},
   "outputs": [],
   "source": []
  },
  {
   "cell_type": "code",
   "execution_count": null,
   "metadata": {},
   "outputs": [],
   "source": []
  }
 ],
 "metadata": {
  "kernelspec": {
   "display_name": "Python 3",
   "language": "python",
   "name": "python3"
  },
  "language_info": {
   "codemirror_mode": {
    "name": "ipython",
    "version": 3
   },
   "file_extension": ".py",
   "mimetype": "text/x-python",
   "name": "python",
   "nbconvert_exporter": "python",
   "pygments_lexer": "ipython3",
   "version": "3.7.4"
  }
 },
 "nbformat": 4,
 "nbformat_minor": 2
}
